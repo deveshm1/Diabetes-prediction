{
  "nbformat": 4,
  "nbformat_minor": 0,
  "metadata": {
    "kernelspec": {
      "display_name": "Python 3",
      "language": "python",
      "name": "python3"
    },
    "language_info": {
      "codemirror_mode": {
        "name": "ipython",
        "version": 3
      },
      "file_extension": ".py",
      "mimetype": "text/x-python",
      "name": "python",
      "nbconvert_exporter": "python",
      "pygments_lexer": "ipython3",
      "version": "3.6.4"
    },
    "colab": {
      "name": "pima-dataset-deep-learning-grid-search-84-4.ipynb",
      "provenance": []
    }
  },
  "cells": [
    {
      "cell_type": "markdown",
      "metadata": {
        "_cell_guid": "b1076dfc-b9ad-4769-8c92-a6c4dae69d19",
        "_uuid": "8f2839f25d086af736a60e9eeb907d3b93b6e0e5",
        "id": "uAJ1g_BlXioq",
        "colab_type": "text"
      },
      "source": [
        "# Deep Learning Grid Search\n",
        "\n",
        "We are going to tune the following parameters:\n",
        "\n",
        "* batch size and training epochs.\n",
        "* learning rate\n",
        "* network weight initialization.\n",
        "* activation functions.\n",
        "* dropout regularization.\n",
        "* number of neurons in the hidden layer."
      ]
    },
    {
      "cell_type": "code",
      "metadata": {
        "_cell_guid": "79c7e3d0-c299-4dcb-8224-4455121ee9b0",
        "_uuid": "d629ff2d2480ee46fbb7e2d37f6b5fab8052498a",
        "id": "YwUIOZcFXior",
        "colab_type": "code",
        "colab": {}
      },
      "source": [
        "import sys\n",
        "import pandas\n",
        "import numpy\n",
        "import sklearn\n",
        "import keras\n"
      ],
      "execution_count": null,
      "outputs": []
    },
    {
      "cell_type": "code",
      "metadata": {
        "_uuid": "68a60e83a77164333e1643cafed703843a344e15",
        "id": "suDssoMwXiou",
        "colab_type": "code",
        "colab": {
          "resources": {
            "http://localhost:8080/nbextensions/google.colab/files.js": {
              "data": "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",
              "ok": true,
              "headers": [
                [
                  "content-type",
                  "application/javascript"
                ]
              ],
              "status": 200,
              "status_text": ""
            }
          },
          "base_uri": "https://localhost:8080/",
          "height": 251
        },
        "outputId": "f41df74d-5497-4634-8558-88b1987246b6"
      },
      "source": [
        "import pandas as pd\n",
        "import numpy as np\n",
        "\n",
        "names = ['n_pregnant', 'glucose_concentration', 'blood_pressuer (mm Hg)', 'skin_thickness (mm)', 'serum_insulin (mu U/ml)',\n",
        "        'BMI', 'pedigree_function', 'age', 'class']\n",
        "  \n",
        "from google.colab import files\n",
        "uploaded = files.upload()\n",
        "import io\n",
        "df = pd.read_csv(io.BytesIO(uploaded['diabetes.csv']))\n",
        "df.head()"
      ],
      "execution_count": 2,
      "outputs": [
        {
          "output_type": "display_data",
          "data": {
            "text/html": [
              "\n",
              "     <input type=\"file\" id=\"files-38b023ae-df0a-41b8-a751-83d8ca952445\" name=\"files[]\" multiple disabled\n",
              "        style=\"border:none\" />\n",
              "     <output id=\"result-38b023ae-df0a-41b8-a751-83d8ca952445\">\n",
              "      Upload widget is only available when the cell has been executed in the\n",
              "      current browser session. Please rerun this cell to enable.\n",
              "      </output>\n",
              "      <script src=\"/nbextensions/google.colab/files.js\"></script> "
            ],
            "text/plain": [
              "<IPython.core.display.HTML object>"
            ]
          },
          "metadata": {
            "tags": []
          }
        },
        {
          "output_type": "stream",
          "text": [
            "Saving diabetes.csv to diabetes (1).csv\n"
          ],
          "name": "stdout"
        },
        {
          "output_type": "execute_result",
          "data": {
            "text/html": [
              "<div>\n",
              "<style scoped>\n",
              "    .dataframe tbody tr th:only-of-type {\n",
              "        vertical-align: middle;\n",
              "    }\n",
              "\n",
              "    .dataframe tbody tr th {\n",
              "        vertical-align: top;\n",
              "    }\n",
              "\n",
              "    .dataframe thead th {\n",
              "        text-align: right;\n",
              "    }\n",
              "</style>\n",
              "<table border=\"1\" class=\"dataframe\">\n",
              "  <thead>\n",
              "    <tr style=\"text-align: right;\">\n",
              "      <th></th>\n",
              "      <th>Pregnancies</th>\n",
              "      <th>Glucose</th>\n",
              "      <th>BloodPressure</th>\n",
              "      <th>SkinThickness</th>\n",
              "      <th>Insulin</th>\n",
              "      <th>BMI</th>\n",
              "      <th>DiabetesPedigreeFunction</th>\n",
              "      <th>Age</th>\n",
              "      <th>Outcome</th>\n",
              "    </tr>\n",
              "  </thead>\n",
              "  <tbody>\n",
              "    <tr>\n",
              "      <th>0</th>\n",
              "      <td>6</td>\n",
              "      <td>148</td>\n",
              "      <td>72</td>\n",
              "      <td>35</td>\n",
              "      <td>0</td>\n",
              "      <td>33.6</td>\n",
              "      <td>0.627</td>\n",
              "      <td>50</td>\n",
              "      <td>1</td>\n",
              "    </tr>\n",
              "    <tr>\n",
              "      <th>1</th>\n",
              "      <td>1</td>\n",
              "      <td>85</td>\n",
              "      <td>66</td>\n",
              "      <td>29</td>\n",
              "      <td>0</td>\n",
              "      <td>26.6</td>\n",
              "      <td>0.351</td>\n",
              "      <td>31</td>\n",
              "      <td>0</td>\n",
              "    </tr>\n",
              "    <tr>\n",
              "      <th>2</th>\n",
              "      <td>8</td>\n",
              "      <td>183</td>\n",
              "      <td>64</td>\n",
              "      <td>0</td>\n",
              "      <td>0</td>\n",
              "      <td>23.3</td>\n",
              "      <td>0.672</td>\n",
              "      <td>32</td>\n",
              "      <td>1</td>\n",
              "    </tr>\n",
              "    <tr>\n",
              "      <th>3</th>\n",
              "      <td>1</td>\n",
              "      <td>89</td>\n",
              "      <td>66</td>\n",
              "      <td>23</td>\n",
              "      <td>94</td>\n",
              "      <td>28.1</td>\n",
              "      <td>0.167</td>\n",
              "      <td>21</td>\n",
              "      <td>0</td>\n",
              "    </tr>\n",
              "    <tr>\n",
              "      <th>4</th>\n",
              "      <td>0</td>\n",
              "      <td>137</td>\n",
              "      <td>40</td>\n",
              "      <td>35</td>\n",
              "      <td>168</td>\n",
              "      <td>43.1</td>\n",
              "      <td>2.288</td>\n",
              "      <td>33</td>\n",
              "      <td>1</td>\n",
              "    </tr>\n",
              "  </tbody>\n",
              "</table>\n",
              "</div>"
            ],
            "text/plain": [
              "   Pregnancies  Glucose  BloodPressure  ...  DiabetesPedigreeFunction  Age  Outcome\n",
              "0            6      148             72  ...                     0.627   50        1\n",
              "1            1       85             66  ...                     0.351   31        0\n",
              "2            8      183             64  ...                     0.672   32        1\n",
              "3            1       89             66  ...                     0.167   21        0\n",
              "4            0      137             40  ...                     2.288   33        1\n",
              "\n",
              "[5 rows x 9 columns]"
            ]
          },
          "metadata": {
            "tags": []
          },
          "execution_count": 2
        }
      ]
    },
    {
      "cell_type": "code",
      "metadata": {
        "_uuid": "cc9ad941f9ab6e6299ff254f36c074f8fd96bd8f",
        "id": "kUeKhkqzXiox",
        "colab_type": "code",
        "colab": {
          "base_uri": "https://localhost:8080/",
          "height": 284
        },
        "outputId": "854587ac-21f0-4d8c-d020-eb8b3cdec771"
      },
      "source": [
        "# Describe the dataset\n",
        "df.describe()"
      ],
      "execution_count": 3,
      "outputs": [
        {
          "output_type": "execute_result",
          "data": {
            "text/html": [
              "<div>\n",
              "<style scoped>\n",
              "    .dataframe tbody tr th:only-of-type {\n",
              "        vertical-align: middle;\n",
              "    }\n",
              "\n",
              "    .dataframe tbody tr th {\n",
              "        vertical-align: top;\n",
              "    }\n",
              "\n",
              "    .dataframe thead th {\n",
              "        text-align: right;\n",
              "    }\n",
              "</style>\n",
              "<table border=\"1\" class=\"dataframe\">\n",
              "  <thead>\n",
              "    <tr style=\"text-align: right;\">\n",
              "      <th></th>\n",
              "      <th>Pregnancies</th>\n",
              "      <th>Glucose</th>\n",
              "      <th>BloodPressure</th>\n",
              "      <th>SkinThickness</th>\n",
              "      <th>Insulin</th>\n",
              "      <th>BMI</th>\n",
              "      <th>DiabetesPedigreeFunction</th>\n",
              "      <th>Age</th>\n",
              "      <th>Outcome</th>\n",
              "    </tr>\n",
              "  </thead>\n",
              "  <tbody>\n",
              "    <tr>\n",
              "      <th>count</th>\n",
              "      <td>768.000000</td>\n",
              "      <td>768.000000</td>\n",
              "      <td>768.000000</td>\n",
              "      <td>768.000000</td>\n",
              "      <td>768.000000</td>\n",
              "      <td>768.000000</td>\n",
              "      <td>768.000000</td>\n",
              "      <td>768.000000</td>\n",
              "      <td>768.000000</td>\n",
              "    </tr>\n",
              "    <tr>\n",
              "      <th>mean</th>\n",
              "      <td>3.845052</td>\n",
              "      <td>120.894531</td>\n",
              "      <td>69.105469</td>\n",
              "      <td>20.536458</td>\n",
              "      <td>79.799479</td>\n",
              "      <td>31.992578</td>\n",
              "      <td>0.471876</td>\n",
              "      <td>33.240885</td>\n",
              "      <td>0.348958</td>\n",
              "    </tr>\n",
              "    <tr>\n",
              "      <th>std</th>\n",
              "      <td>3.369578</td>\n",
              "      <td>31.972618</td>\n",
              "      <td>19.355807</td>\n",
              "      <td>15.952218</td>\n",
              "      <td>115.244002</td>\n",
              "      <td>7.884160</td>\n",
              "      <td>0.331329</td>\n",
              "      <td>11.760232</td>\n",
              "      <td>0.476951</td>\n",
              "    </tr>\n",
              "    <tr>\n",
              "      <th>min</th>\n",
              "      <td>0.000000</td>\n",
              "      <td>0.000000</td>\n",
              "      <td>0.000000</td>\n",
              "      <td>0.000000</td>\n",
              "      <td>0.000000</td>\n",
              "      <td>0.000000</td>\n",
              "      <td>0.078000</td>\n",
              "      <td>21.000000</td>\n",
              "      <td>0.000000</td>\n",
              "    </tr>\n",
              "    <tr>\n",
              "      <th>25%</th>\n",
              "      <td>1.000000</td>\n",
              "      <td>99.000000</td>\n",
              "      <td>62.000000</td>\n",
              "      <td>0.000000</td>\n",
              "      <td>0.000000</td>\n",
              "      <td>27.300000</td>\n",
              "      <td>0.243750</td>\n",
              "      <td>24.000000</td>\n",
              "      <td>0.000000</td>\n",
              "    </tr>\n",
              "    <tr>\n",
              "      <th>50%</th>\n",
              "      <td>3.000000</td>\n",
              "      <td>117.000000</td>\n",
              "      <td>72.000000</td>\n",
              "      <td>23.000000</td>\n",
              "      <td>30.500000</td>\n",
              "      <td>32.000000</td>\n",
              "      <td>0.372500</td>\n",
              "      <td>29.000000</td>\n",
              "      <td>0.000000</td>\n",
              "    </tr>\n",
              "    <tr>\n",
              "      <th>75%</th>\n",
              "      <td>6.000000</td>\n",
              "      <td>140.250000</td>\n",
              "      <td>80.000000</td>\n",
              "      <td>32.000000</td>\n",
              "      <td>127.250000</td>\n",
              "      <td>36.600000</td>\n",
              "      <td>0.626250</td>\n",
              "      <td>41.000000</td>\n",
              "      <td>1.000000</td>\n",
              "    </tr>\n",
              "    <tr>\n",
              "      <th>max</th>\n",
              "      <td>17.000000</td>\n",
              "      <td>199.000000</td>\n",
              "      <td>122.000000</td>\n",
              "      <td>99.000000</td>\n",
              "      <td>846.000000</td>\n",
              "      <td>67.100000</td>\n",
              "      <td>2.420000</td>\n",
              "      <td>81.000000</td>\n",
              "      <td>1.000000</td>\n",
              "    </tr>\n",
              "  </tbody>\n",
              "</table>\n",
              "</div>"
            ],
            "text/plain": [
              "       Pregnancies     Glucose  ...         Age     Outcome\n",
              "count   768.000000  768.000000  ...  768.000000  768.000000\n",
              "mean      3.845052  120.894531  ...   33.240885    0.348958\n",
              "std       3.369578   31.972618  ...   11.760232    0.476951\n",
              "min       0.000000    0.000000  ...   21.000000    0.000000\n",
              "25%       1.000000   99.000000  ...   24.000000    0.000000\n",
              "50%       3.000000  117.000000  ...   29.000000    0.000000\n",
              "75%       6.000000  140.250000  ...   41.000000    1.000000\n",
              "max      17.000000  199.000000  ...   81.000000    1.000000\n",
              "\n",
              "[8 rows x 9 columns]"
            ]
          },
          "metadata": {
            "tags": []
          },
          "execution_count": 3
        }
      ]
    },
    {
      "cell_type": "code",
      "metadata": {
        "_uuid": "8df79be80598e9d8b97956f1dd66cb416867a182",
        "id": "LTN0T6aCXioz",
        "colab_type": "code",
        "colab": {
          "base_uri": "https://localhost:8080/",
          "height": 195
        },
        "outputId": "a12a2c51-9c4f-47d9-9710-e3319c49d496"
      },
      "source": [
        "df[df['Glucose'] == 0]"
      ],
      "execution_count": 4,
      "outputs": [
        {
          "output_type": "execute_result",
          "data": {
            "text/html": [
              "<div>\n",
              "<style scoped>\n",
              "    .dataframe tbody tr th:only-of-type {\n",
              "        vertical-align: middle;\n",
              "    }\n",
              "\n",
              "    .dataframe tbody tr th {\n",
              "        vertical-align: top;\n",
              "    }\n",
              "\n",
              "    .dataframe thead th {\n",
              "        text-align: right;\n",
              "    }\n",
              "</style>\n",
              "<table border=\"1\" class=\"dataframe\">\n",
              "  <thead>\n",
              "    <tr style=\"text-align: right;\">\n",
              "      <th></th>\n",
              "      <th>Pregnancies</th>\n",
              "      <th>Glucose</th>\n",
              "      <th>BloodPressure</th>\n",
              "      <th>SkinThickness</th>\n",
              "      <th>Insulin</th>\n",
              "      <th>BMI</th>\n",
              "      <th>DiabetesPedigreeFunction</th>\n",
              "      <th>Age</th>\n",
              "      <th>Outcome</th>\n",
              "    </tr>\n",
              "  </thead>\n",
              "  <tbody>\n",
              "    <tr>\n",
              "      <th>75</th>\n",
              "      <td>1</td>\n",
              "      <td>0</td>\n",
              "      <td>48</td>\n",
              "      <td>20</td>\n",
              "      <td>0</td>\n",
              "      <td>24.7</td>\n",
              "      <td>0.140</td>\n",
              "      <td>22</td>\n",
              "      <td>0</td>\n",
              "    </tr>\n",
              "    <tr>\n",
              "      <th>182</th>\n",
              "      <td>1</td>\n",
              "      <td>0</td>\n",
              "      <td>74</td>\n",
              "      <td>20</td>\n",
              "      <td>23</td>\n",
              "      <td>27.7</td>\n",
              "      <td>0.299</td>\n",
              "      <td>21</td>\n",
              "      <td>0</td>\n",
              "    </tr>\n",
              "    <tr>\n",
              "      <th>342</th>\n",
              "      <td>1</td>\n",
              "      <td>0</td>\n",
              "      <td>68</td>\n",
              "      <td>35</td>\n",
              "      <td>0</td>\n",
              "      <td>32.0</td>\n",
              "      <td>0.389</td>\n",
              "      <td>22</td>\n",
              "      <td>0</td>\n",
              "    </tr>\n",
              "    <tr>\n",
              "      <th>349</th>\n",
              "      <td>5</td>\n",
              "      <td>0</td>\n",
              "      <td>80</td>\n",
              "      <td>32</td>\n",
              "      <td>0</td>\n",
              "      <td>41.0</td>\n",
              "      <td>0.346</td>\n",
              "      <td>37</td>\n",
              "      <td>1</td>\n",
              "    </tr>\n",
              "    <tr>\n",
              "      <th>502</th>\n",
              "      <td>6</td>\n",
              "      <td>0</td>\n",
              "      <td>68</td>\n",
              "      <td>41</td>\n",
              "      <td>0</td>\n",
              "      <td>39.0</td>\n",
              "      <td>0.727</td>\n",
              "      <td>41</td>\n",
              "      <td>1</td>\n",
              "    </tr>\n",
              "  </tbody>\n",
              "</table>\n",
              "</div>"
            ],
            "text/plain": [
              "     Pregnancies  Glucose  ...  Age  Outcome\n",
              "75             1        0  ...   22        0\n",
              "182            1        0  ...   21        0\n",
              "342            1        0  ...   22        0\n",
              "349            5        0  ...   37        1\n",
              "502            6        0  ...   41        1\n",
              "\n",
              "[5 rows x 9 columns]"
            ]
          },
          "metadata": {
            "tags": []
          },
          "execution_count": 4
        }
      ]
    },
    {
      "cell_type": "code",
      "metadata": {
        "id": "CYgudBQjXio1",
        "colab_type": "code",
        "colab": {
          "base_uri": "https://localhost:8080/",
          "height": 284
        },
        "outputId": "62f0aeb9-4375-45c7-f40f-19ef72878adc"
      },
      "source": [
        "# Preprocess the data, mark zero values as NaN and drop\n",
        "columns = ['Glucose', 'BloodPressure', 'SkinThickness', 'Insulin', 'BMI']\n",
        "\n",
        "for col in columns:\n",
        "    df[col].replace(0, np.NaN, inplace=True)\n",
        "    \n",
        "df.describe()"
      ],
      "execution_count": 5,
      "outputs": [
        {
          "output_type": "execute_result",
          "data": {
            "text/html": [
              "<div>\n",
              "<style scoped>\n",
              "    .dataframe tbody tr th:only-of-type {\n",
              "        vertical-align: middle;\n",
              "    }\n",
              "\n",
              "    .dataframe tbody tr th {\n",
              "        vertical-align: top;\n",
              "    }\n",
              "\n",
              "    .dataframe thead th {\n",
              "        text-align: right;\n",
              "    }\n",
              "</style>\n",
              "<table border=\"1\" class=\"dataframe\">\n",
              "  <thead>\n",
              "    <tr style=\"text-align: right;\">\n",
              "      <th></th>\n",
              "      <th>Pregnancies</th>\n",
              "      <th>Glucose</th>\n",
              "      <th>BloodPressure</th>\n",
              "      <th>SkinThickness</th>\n",
              "      <th>Insulin</th>\n",
              "      <th>BMI</th>\n",
              "      <th>DiabetesPedigreeFunction</th>\n",
              "      <th>Age</th>\n",
              "      <th>Outcome</th>\n",
              "    </tr>\n",
              "  </thead>\n",
              "  <tbody>\n",
              "    <tr>\n",
              "      <th>count</th>\n",
              "      <td>768.000000</td>\n",
              "      <td>763.000000</td>\n",
              "      <td>733.000000</td>\n",
              "      <td>541.000000</td>\n",
              "      <td>394.000000</td>\n",
              "      <td>757.000000</td>\n",
              "      <td>768.000000</td>\n",
              "      <td>768.000000</td>\n",
              "      <td>768.000000</td>\n",
              "    </tr>\n",
              "    <tr>\n",
              "      <th>mean</th>\n",
              "      <td>3.845052</td>\n",
              "      <td>121.686763</td>\n",
              "      <td>72.405184</td>\n",
              "      <td>29.153420</td>\n",
              "      <td>155.548223</td>\n",
              "      <td>32.457464</td>\n",
              "      <td>0.471876</td>\n",
              "      <td>33.240885</td>\n",
              "      <td>0.348958</td>\n",
              "    </tr>\n",
              "    <tr>\n",
              "      <th>std</th>\n",
              "      <td>3.369578</td>\n",
              "      <td>30.535641</td>\n",
              "      <td>12.382158</td>\n",
              "      <td>10.476982</td>\n",
              "      <td>118.775855</td>\n",
              "      <td>6.924988</td>\n",
              "      <td>0.331329</td>\n",
              "      <td>11.760232</td>\n",
              "      <td>0.476951</td>\n",
              "    </tr>\n",
              "    <tr>\n",
              "      <th>min</th>\n",
              "      <td>0.000000</td>\n",
              "      <td>44.000000</td>\n",
              "      <td>24.000000</td>\n",
              "      <td>7.000000</td>\n",
              "      <td>14.000000</td>\n",
              "      <td>18.200000</td>\n",
              "      <td>0.078000</td>\n",
              "      <td>21.000000</td>\n",
              "      <td>0.000000</td>\n",
              "    </tr>\n",
              "    <tr>\n",
              "      <th>25%</th>\n",
              "      <td>1.000000</td>\n",
              "      <td>99.000000</td>\n",
              "      <td>64.000000</td>\n",
              "      <td>22.000000</td>\n",
              "      <td>76.250000</td>\n",
              "      <td>27.500000</td>\n",
              "      <td>0.243750</td>\n",
              "      <td>24.000000</td>\n",
              "      <td>0.000000</td>\n",
              "    </tr>\n",
              "    <tr>\n",
              "      <th>50%</th>\n",
              "      <td>3.000000</td>\n",
              "      <td>117.000000</td>\n",
              "      <td>72.000000</td>\n",
              "      <td>29.000000</td>\n",
              "      <td>125.000000</td>\n",
              "      <td>32.300000</td>\n",
              "      <td>0.372500</td>\n",
              "      <td>29.000000</td>\n",
              "      <td>0.000000</td>\n",
              "    </tr>\n",
              "    <tr>\n",
              "      <th>75%</th>\n",
              "      <td>6.000000</td>\n",
              "      <td>141.000000</td>\n",
              "      <td>80.000000</td>\n",
              "      <td>36.000000</td>\n",
              "      <td>190.000000</td>\n",
              "      <td>36.600000</td>\n",
              "      <td>0.626250</td>\n",
              "      <td>41.000000</td>\n",
              "      <td>1.000000</td>\n",
              "    </tr>\n",
              "    <tr>\n",
              "      <th>max</th>\n",
              "      <td>17.000000</td>\n",
              "      <td>199.000000</td>\n",
              "      <td>122.000000</td>\n",
              "      <td>99.000000</td>\n",
              "      <td>846.000000</td>\n",
              "      <td>67.100000</td>\n",
              "      <td>2.420000</td>\n",
              "      <td>81.000000</td>\n",
              "      <td>1.000000</td>\n",
              "    </tr>\n",
              "  </tbody>\n",
              "</table>\n",
              "</div>"
            ],
            "text/plain": [
              "       Pregnancies     Glucose  ...         Age     Outcome\n",
              "count   768.000000  763.000000  ...  768.000000  768.000000\n",
              "mean      3.845052  121.686763  ...   33.240885    0.348958\n",
              "std       3.369578   30.535641  ...   11.760232    0.476951\n",
              "min       0.000000   44.000000  ...   21.000000    0.000000\n",
              "25%       1.000000   99.000000  ...   24.000000    0.000000\n",
              "50%       3.000000  117.000000  ...   29.000000    0.000000\n",
              "75%       6.000000  141.000000  ...   41.000000    1.000000\n",
              "max      17.000000  199.000000  ...   81.000000    1.000000\n",
              "\n",
              "[8 rows x 9 columns]"
            ]
          },
          "metadata": {
            "tags": []
          },
          "execution_count": 5
        }
      ]
    },
    {
      "cell_type": "code",
      "metadata": {
        "id": "kqF8-7l2Xio3",
        "colab_type": "code",
        "colab": {
          "base_uri": "https://localhost:8080/",
          "height": 284
        },
        "outputId": "ea10c7b2-7248-4267-dd2a-b3ca62eb2a7b"
      },
      "source": [
        "# Drop rows with missing values\n",
        "df.dropna(inplace=True)\n",
        "\n",
        "# summarize the number of rows and columns in df\n",
        "df.describe()"
      ],
      "execution_count": 6,
      "outputs": [
        {
          "output_type": "execute_result",
          "data": {
            "text/html": [
              "<div>\n",
              "<style scoped>\n",
              "    .dataframe tbody tr th:only-of-type {\n",
              "        vertical-align: middle;\n",
              "    }\n",
              "\n",
              "    .dataframe tbody tr th {\n",
              "        vertical-align: top;\n",
              "    }\n",
              "\n",
              "    .dataframe thead th {\n",
              "        text-align: right;\n",
              "    }\n",
              "</style>\n",
              "<table border=\"1\" class=\"dataframe\">\n",
              "  <thead>\n",
              "    <tr style=\"text-align: right;\">\n",
              "      <th></th>\n",
              "      <th>Pregnancies</th>\n",
              "      <th>Glucose</th>\n",
              "      <th>BloodPressure</th>\n",
              "      <th>SkinThickness</th>\n",
              "      <th>Insulin</th>\n",
              "      <th>BMI</th>\n",
              "      <th>DiabetesPedigreeFunction</th>\n",
              "      <th>Age</th>\n",
              "      <th>Outcome</th>\n",
              "    </tr>\n",
              "  </thead>\n",
              "  <tbody>\n",
              "    <tr>\n",
              "      <th>count</th>\n",
              "      <td>392.000000</td>\n",
              "      <td>392.000000</td>\n",
              "      <td>392.000000</td>\n",
              "      <td>392.000000</td>\n",
              "      <td>392.000000</td>\n",
              "      <td>392.000000</td>\n",
              "      <td>392.000000</td>\n",
              "      <td>392.000000</td>\n",
              "      <td>392.000000</td>\n",
              "    </tr>\n",
              "    <tr>\n",
              "      <th>mean</th>\n",
              "      <td>3.301020</td>\n",
              "      <td>122.627551</td>\n",
              "      <td>70.663265</td>\n",
              "      <td>29.145408</td>\n",
              "      <td>156.056122</td>\n",
              "      <td>33.086224</td>\n",
              "      <td>0.523046</td>\n",
              "      <td>30.864796</td>\n",
              "      <td>0.331633</td>\n",
              "    </tr>\n",
              "    <tr>\n",
              "      <th>std</th>\n",
              "      <td>3.211424</td>\n",
              "      <td>30.860781</td>\n",
              "      <td>12.496092</td>\n",
              "      <td>10.516424</td>\n",
              "      <td>118.841690</td>\n",
              "      <td>7.027659</td>\n",
              "      <td>0.345488</td>\n",
              "      <td>10.200777</td>\n",
              "      <td>0.471401</td>\n",
              "    </tr>\n",
              "    <tr>\n",
              "      <th>min</th>\n",
              "      <td>0.000000</td>\n",
              "      <td>56.000000</td>\n",
              "      <td>24.000000</td>\n",
              "      <td>7.000000</td>\n",
              "      <td>14.000000</td>\n",
              "      <td>18.200000</td>\n",
              "      <td>0.085000</td>\n",
              "      <td>21.000000</td>\n",
              "      <td>0.000000</td>\n",
              "    </tr>\n",
              "    <tr>\n",
              "      <th>25%</th>\n",
              "      <td>1.000000</td>\n",
              "      <td>99.000000</td>\n",
              "      <td>62.000000</td>\n",
              "      <td>21.000000</td>\n",
              "      <td>76.750000</td>\n",
              "      <td>28.400000</td>\n",
              "      <td>0.269750</td>\n",
              "      <td>23.000000</td>\n",
              "      <td>0.000000</td>\n",
              "    </tr>\n",
              "    <tr>\n",
              "      <th>50%</th>\n",
              "      <td>2.000000</td>\n",
              "      <td>119.000000</td>\n",
              "      <td>70.000000</td>\n",
              "      <td>29.000000</td>\n",
              "      <td>125.500000</td>\n",
              "      <td>33.200000</td>\n",
              "      <td>0.449500</td>\n",
              "      <td>27.000000</td>\n",
              "      <td>0.000000</td>\n",
              "    </tr>\n",
              "    <tr>\n",
              "      <th>75%</th>\n",
              "      <td>5.000000</td>\n",
              "      <td>143.000000</td>\n",
              "      <td>78.000000</td>\n",
              "      <td>37.000000</td>\n",
              "      <td>190.000000</td>\n",
              "      <td>37.100000</td>\n",
              "      <td>0.687000</td>\n",
              "      <td>36.000000</td>\n",
              "      <td>1.000000</td>\n",
              "    </tr>\n",
              "    <tr>\n",
              "      <th>max</th>\n",
              "      <td>17.000000</td>\n",
              "      <td>198.000000</td>\n",
              "      <td>110.000000</td>\n",
              "      <td>63.000000</td>\n",
              "      <td>846.000000</td>\n",
              "      <td>67.100000</td>\n",
              "      <td>2.420000</td>\n",
              "      <td>81.000000</td>\n",
              "      <td>1.000000</td>\n",
              "    </tr>\n",
              "  </tbody>\n",
              "</table>\n",
              "</div>"
            ],
            "text/plain": [
              "       Pregnancies     Glucose  ...         Age     Outcome\n",
              "count   392.000000  392.000000  ...  392.000000  392.000000\n",
              "mean      3.301020  122.627551  ...   30.864796    0.331633\n",
              "std       3.211424   30.860781  ...   10.200777    0.471401\n",
              "min       0.000000   56.000000  ...   21.000000    0.000000\n",
              "25%       1.000000   99.000000  ...   23.000000    0.000000\n",
              "50%       2.000000  119.000000  ...   27.000000    0.000000\n",
              "75%       5.000000  143.000000  ...   36.000000    1.000000\n",
              "max      17.000000  198.000000  ...   81.000000    1.000000\n",
              "\n",
              "[8 rows x 9 columns]"
            ]
          },
          "metadata": {
            "tags": []
          },
          "execution_count": 6
        }
      ]
    },
    {
      "cell_type": "code",
      "metadata": {
        "id": "VZ4Ub8-yXio5",
        "colab_type": "code",
        "colab": {
          "base_uri": "https://localhost:8080/",
          "height": 34
        },
        "outputId": "207a6769-d977-4507-dabe-3eb83350e6aa"
      },
      "source": [
        "# Convert dataframe to numpy array\n",
        "dataset = df.values\n",
        "print(dataset.shape)"
      ],
      "execution_count": 7,
      "outputs": [
        {
          "output_type": "stream",
          "text": [
            "(392, 9)\n"
          ],
          "name": "stdout"
        }
      ]
    },
    {
      "cell_type": "code",
      "metadata": {
        "id": "aTHfeihqXio7",
        "colab_type": "code",
        "colab": {}
      },
      "source": [
        "# split into input (X) and an output (Y)\n",
        "# x has all variables, y has all outputs \n",
        "X = dataset[:,0:8]\n",
        "Y = dataset[:, 8].astype(int)"
      ],
      "execution_count": 8,
      "outputs": []
    },
    {
      "cell_type": "code",
      "metadata": {
        "id": "unx_0y-jXio9",
        "colab_type": "code",
        "colab": {
          "base_uri": "https://localhost:8080/",
          "height": 67
        },
        "outputId": "93a56e2d-635a-48f2-96b4-de1567557db0"
      },
      "source": [
        "print(X.shape)\n",
        "print(Y.shape)\n",
        "print(Y[:5])"
      ],
      "execution_count": 9,
      "outputs": [
        {
          "output_type": "stream",
          "text": [
            "(392, 8)\n",
            "(392,)\n",
            "[0 1 1 1 1]\n"
          ],
          "name": "stdout"
        }
      ]
    },
    {
      "cell_type": "code",
      "metadata": {
        "id": "yxE32zOHXipD",
        "colab_type": "code",
        "colab": {
          "base_uri": "https://localhost:8080/",
          "height": 284
        },
        "outputId": "2a641f3f-952f-48c3-bda4-7057738b27d1"
      },
      "source": [
        "# Normalize the data using sklearn StandardScaler\n",
        "from sklearn.preprocessing import StandardScaler\n",
        "\n",
        "scaler = StandardScaler().fit(X)\n",
        "\n",
        "# Transform and display the training data\n",
        "X_standardized = scaler.transform(X)\n",
        "\n",
        "data = pd.DataFrame(X_standardized)\n",
        "data.describe()"
      ],
      "execution_count": 11,
      "outputs": [
        {
          "output_type": "execute_result",
          "data": {
            "text/html": [
              "<div>\n",
              "<style scoped>\n",
              "    .dataframe tbody tr th:only-of-type {\n",
              "        vertical-align: middle;\n",
              "    }\n",
              "\n",
              "    .dataframe tbody tr th {\n",
              "        vertical-align: top;\n",
              "    }\n",
              "\n",
              "    .dataframe thead th {\n",
              "        text-align: right;\n",
              "    }\n",
              "</style>\n",
              "<table border=\"1\" class=\"dataframe\">\n",
              "  <thead>\n",
              "    <tr style=\"text-align: right;\">\n",
              "      <th></th>\n",
              "      <th>0</th>\n",
              "      <th>1</th>\n",
              "      <th>2</th>\n",
              "      <th>3</th>\n",
              "      <th>4</th>\n",
              "      <th>5</th>\n",
              "      <th>6</th>\n",
              "      <th>7</th>\n",
              "    </tr>\n",
              "  </thead>\n",
              "  <tbody>\n",
              "    <tr>\n",
              "      <th>count</th>\n",
              "      <td>3.920000e+02</td>\n",
              "      <td>3.920000e+02</td>\n",
              "      <td>3.920000e+02</td>\n",
              "      <td>3.920000e+02</td>\n",
              "      <td>3.920000e+02</td>\n",
              "      <td>3.920000e+02</td>\n",
              "      <td>3.920000e+02</td>\n",
              "      <td>3.920000e+02</td>\n",
              "    </tr>\n",
              "    <tr>\n",
              "      <th>mean</th>\n",
              "      <td>-4.021726e-17</td>\n",
              "      <td>3.129583e-17</td>\n",
              "      <td>-4.641624e-16</td>\n",
              "      <td>1.042250e-16</td>\n",
              "      <td>6.485742e-17</td>\n",
              "      <td>1.543550e-16</td>\n",
              "      <td>3.880116e-17</td>\n",
              "      <td>1.028089e-16</td>\n",
              "    </tr>\n",
              "    <tr>\n",
              "      <th>std</th>\n",
              "      <td>1.001278e+00</td>\n",
              "      <td>1.001278e+00</td>\n",
              "      <td>1.001278e+00</td>\n",
              "      <td>1.001278e+00</td>\n",
              "      <td>1.001278e+00</td>\n",
              "      <td>1.001278e+00</td>\n",
              "      <td>1.001278e+00</td>\n",
              "      <td>1.001278e+00</td>\n",
              "    </tr>\n",
              "    <tr>\n",
              "      <th>min</th>\n",
              "      <td>-1.029213e+00</td>\n",
              "      <td>-2.161731e+00</td>\n",
              "      <td>-3.739001e+00</td>\n",
              "      <td>-2.108484e+00</td>\n",
              "      <td>-1.196867e+00</td>\n",
              "      <td>-2.120941e+00</td>\n",
              "      <td>-1.269525e+00</td>\n",
              "      <td>-9.682991e-01</td>\n",
              "    </tr>\n",
              "    <tr>\n",
              "      <th>25%</th>\n",
              "      <td>-7.174265e-01</td>\n",
              "      <td>-7.665958e-01</td>\n",
              "      <td>-6.941640e-01</td>\n",
              "      <td>-7.755315e-01</td>\n",
              "      <td>-6.681786e-01</td>\n",
              "      <td>-6.676780e-01</td>\n",
              "      <td>-7.340909e-01</td>\n",
              "      <td>-7.719850e-01</td>\n",
              "    </tr>\n",
              "    <tr>\n",
              "      <th>50%</th>\n",
              "      <td>-4.056403e-01</td>\n",
              "      <td>-1.176959e-01</td>\n",
              "      <td>-5.314565e-02</td>\n",
              "      <td>-1.384444e-02</td>\n",
              "      <td>-2.574448e-01</td>\n",
              "      <td>1.621036e-02</td>\n",
              "      <td>-2.131475e-01</td>\n",
              "      <td>-3.793569e-01</td>\n",
              "    </tr>\n",
              "    <tr>\n",
              "      <th>75%</th>\n",
              "      <td>5.297185e-01</td>\n",
              "      <td>6.609841e-01</td>\n",
              "      <td>5.878727e-01</td>\n",
              "      <td>7.478426e-01</td>\n",
              "      <td>2.859877e-01</td>\n",
              "      <td>5.718696e-01</td>\n",
              "      <td>4.751644e-01</td>\n",
              "      <td>5.040564e-01</td>\n",
              "    </tr>\n",
              "    <tr>\n",
              "      <th>max</th>\n",
              "      <td>4.271153e+00</td>\n",
              "      <td>2.445459e+00</td>\n",
              "      <td>3.151946e+00</td>\n",
              "      <td>3.223325e+00</td>\n",
              "      <td>5.812990e+00</td>\n",
              "      <td>4.846172e+00</td>\n",
              "      <td>5.497667e+00</td>\n",
              "      <td>4.921123e+00</td>\n",
              "    </tr>\n",
              "  </tbody>\n",
              "</table>\n",
              "</div>"
            ],
            "text/plain": [
              "                  0             1  ...             6             7\n",
              "count  3.920000e+02  3.920000e+02  ...  3.920000e+02  3.920000e+02\n",
              "mean  -4.021726e-17  3.129583e-17  ...  3.880116e-17  1.028089e-16\n",
              "std    1.001278e+00  1.001278e+00  ...  1.001278e+00  1.001278e+00\n",
              "min   -1.029213e+00 -2.161731e+00  ... -1.269525e+00 -9.682991e-01\n",
              "25%   -7.174265e-01 -7.665958e-01  ... -7.340909e-01 -7.719850e-01\n",
              "50%   -4.056403e-01 -1.176959e-01  ... -2.131475e-01 -3.793569e-01\n",
              "75%    5.297185e-01  6.609841e-01  ...  4.751644e-01  5.040564e-01\n",
              "max    4.271153e+00  2.445459e+00  ...  5.497667e+00  4.921123e+00\n",
              "\n",
              "[8 rows x 8 columns]"
            ]
          },
          "metadata": {
            "tags": []
          },
          "execution_count": 11
        }
      ]
    },
    {
      "cell_type": "code",
      "metadata": {
        "id": "QlQ3iJwZXipF",
        "colab_type": "code",
        "colab": {}
      },
      "source": [
        "# import necessary sklearn and keras packages\n",
        "from sklearn.model_selection import GridSearchCV, KFold\n",
        "from keras.models import Sequential\n",
        "from keras.layers import Dense\n",
        "from keras.wrappers.scikit_learn import KerasClassifier\n",
        "from keras.optimizers import Adam\n",
        "\n",
        "# Do a grid search for the optimal batch size and number of epochs\n",
        "# import necessary packages\n",
        "from sklearn.model_selection import GridSearchCV\n",
        "from sklearn.model_selection import KFold\n",
        "from keras.models import Sequential\n",
        "from keras.layers import Dense\n",
        "from keras.wrappers.scikit_learn import KerasClassifier\n",
        "from keras.optimizers import Adam\n",
        "from keras.callbacks import ModelCheckpoint"
      ],
      "execution_count": 12,
      "outputs": []
    },
    {
      "cell_type": "code",
      "metadata": {
        "id": "WKQVf9YfXipH",
        "colab_type": "code",
        "colab": {
          "base_uri": "https://localhost:8080/",
          "height": 1000
        },
        "outputId": "fe923786-afc8-47b6-f9a8-ee658be1922d"
      },
      "source": [
        "\n",
        "# Define a random seed\n",
        "seed = 6\n",
        "np.random.seed(seed)\n",
        "# Start defining the model\n",
        "'''\n",
        "def create_model():\n",
        "    # create model\n",
        "    model = Sequential()\n",
        "    model.add(Dense(8, input_dim = 8, kernel_initializer='normal', activation='relu'))\n",
        "    model.add(Dense(16, input_dim = 8, kernel_initializer='normal', activation='relu'))\n",
        "    model.add(Dense(8, input_dim = 16, kernel_initializer='normal', activation='relu'))\n",
        "    model.add(Dense(1, activation='sigmoid'))\n",
        "\n",
        "    # compile the model\n",
        "    adam = Adam(lr = 0.01)\n",
        "    model.compile(loss = 'binary_crossentropy', optimizer = adam, metrics = ['accuracy'])\n",
        "    return model\n",
        "'''\n",
        "def create_model():\n",
        "    #create the model\n",
        "    model=Sequential()\n",
        "    #this is the input layer\n",
        "    model.add(Dense(8, input_dim=8, kernel_initializer='normal', activation='relu'))\n",
        "    #first 8 is the number of nodes,relu=rectified linear unit\n",
        "    \n",
        "    #now hidden layer which comes in between input and output layers\n",
        "    model.add(Dense(4, input_dim=8, kernel_initializer='normal', activation='relu'))\n",
        "    \n",
        "    #output layer\n",
        "    model.add(Dense(1, activation='sigmoid'))#because we are doing a binary classification problem\n",
        "    \n",
        "    #compile the model\n",
        "    adam=Adam(lr= 0.01)#lr is the learning rate\n",
        "    model.compile(loss='binary_crossentropy', optimizer=adam, metrics=['accuracy'])\n",
        "    return model\n",
        "    \n",
        "# create the model\n",
        "model = KerasClassifier(build_fn = create_model, verbose = 0)\n",
        "\n",
        "# define the grid search parameters\n",
        "batch_size = [16, 32, 64, 128]\n",
        "epochs = [10, 50 ,100]\n",
        "\n",
        "# make a dictionary of the grid search parameters\n",
        "param_grid = dict(batch_size=batch_size, epochs=epochs)\n",
        "\n",
        "# build and fit the GridSearchCV\n",
        "grid = GridSearchCV(estimator = model, param_grid = param_grid, cv = KFold(random_state=seed), verbose = 10)\n",
        "grid_results = grid.fit(X_standardized, Y)\n",
        "\n",
        "# summarize the results\n",
        "print(\"Best: {0}, using {1}\".format(grid_results.best_score_, grid_results.best_params_))\n",
        "means = grid_results.cv_results_['mean_test_score']\n",
        "stds = grid_results.cv_results_['std_test_score']\n",
        "params = grid_results.cv_results_['params']\n",
        "for mean, stdev, param in zip(means, stds, params):\n",
        "    print('{0} ({1}) with: {2}'.format(mean, stdev, param))\n"
      ],
      "execution_count": 13,
      "outputs": [
        {
          "output_type": "stream",
          "text": [
            "Fitting 5 folds for each of 12 candidates, totalling 60 fits\n",
            "[CV] batch_size=16, epochs=10 ........................................\n"
          ],
          "name": "stdout"
        },
        {
          "output_type": "stream",
          "text": [
            "/usr/local/lib/python3.6/dist-packages/sklearn/model_selection/_split.py:296: FutureWarning: Setting a random_state has no effect since shuffle is False. This will raise an error in 0.24. You should leave random_state to its default (None), or set shuffle=True.\n",
            "  FutureWarning\n",
            "[Parallel(n_jobs=1)]: Using backend SequentialBackend with 1 concurrent workers.\n"
          ],
          "name": "stderr"
        },
        {
          "output_type": "stream",
          "text": [
            "[CV] ............ batch_size=16, epochs=10, score=0.747, total=   0.8s\n",
            "[CV] batch_size=16, epochs=10 ........................................\n"
          ],
          "name": "stdout"
        },
        {
          "output_type": "stream",
          "text": [
            "[Parallel(n_jobs=1)]: Done   1 out of   1 | elapsed:    0.8s remaining:    0.0s\n"
          ],
          "name": "stderr"
        },
        {
          "output_type": "stream",
          "text": [
            "[CV] ............ batch_size=16, epochs=10, score=0.608, total=   0.8s\n",
            "[CV] batch_size=16, epochs=10 ........................................\n"
          ],
          "name": "stdout"
        },
        {
          "output_type": "stream",
          "text": [
            "[Parallel(n_jobs=1)]: Done   2 out of   2 | elapsed:    1.6s remaining:    0.0s\n"
          ],
          "name": "stderr"
        },
        {
          "output_type": "stream",
          "text": [
            "[CV] ............ batch_size=16, epochs=10, score=0.821, total=   0.7s\n",
            "[CV] batch_size=16, epochs=10 ........................................\n"
          ],
          "name": "stdout"
        },
        {
          "output_type": "stream",
          "text": [
            "[Parallel(n_jobs=1)]: Done   3 out of   3 | elapsed:    2.3s remaining:    0.0s\n"
          ],
          "name": "stderr"
        },
        {
          "output_type": "stream",
          "text": [
            "[CV] ............ batch_size=16, epochs=10, score=0.846, total=   0.7s\n",
            "[CV] batch_size=16, epochs=10 ........................................\n"
          ],
          "name": "stdout"
        },
        {
          "output_type": "stream",
          "text": [
            "[Parallel(n_jobs=1)]: Done   4 out of   4 | elapsed:    3.1s remaining:    0.0s\n"
          ],
          "name": "stderr"
        },
        {
          "output_type": "stream",
          "text": [
            "[CV] ............ batch_size=16, epochs=10, score=0.833, total=   0.7s\n",
            "[CV] batch_size=16, epochs=50 ........................................\n"
          ],
          "name": "stdout"
        },
        {
          "output_type": "stream",
          "text": [
            "[Parallel(n_jobs=1)]: Done   5 out of   5 | elapsed:    3.8s remaining:    0.0s\n"
          ],
          "name": "stderr"
        },
        {
          "output_type": "stream",
          "text": [
            "[CV] ............ batch_size=16, epochs=50, score=0.747, total=   1.6s\n",
            "[CV] batch_size=16, epochs=50 ........................................\n"
          ],
          "name": "stdout"
        },
        {
          "output_type": "stream",
          "text": [
            "[Parallel(n_jobs=1)]: Done   6 out of   6 | elapsed:    5.4s remaining:    0.0s\n"
          ],
          "name": "stderr"
        },
        {
          "output_type": "stream",
          "text": [
            "[CV] ............ batch_size=16, epochs=50, score=0.658, total=   1.5s\n",
            "[CV] batch_size=16, epochs=50 ........................................\n"
          ],
          "name": "stdout"
        },
        {
          "output_type": "stream",
          "text": [
            "[Parallel(n_jobs=1)]: Done   7 out of   7 | elapsed:    6.9s remaining:    0.0s\n"
          ],
          "name": "stderr"
        },
        {
          "output_type": "stream",
          "text": [
            "[CV] ............ batch_size=16, epochs=50, score=0.705, total=   1.4s\n",
            "[CV] batch_size=16, epochs=50 ........................................\n"
          ],
          "name": "stdout"
        },
        {
          "output_type": "stream",
          "text": [
            "[Parallel(n_jobs=1)]: Done   8 out of   8 | elapsed:    8.3s remaining:    0.0s\n"
          ],
          "name": "stderr"
        },
        {
          "output_type": "stream",
          "text": [
            "[CV] ............ batch_size=16, epochs=50, score=0.808, total=   1.6s\n",
            "[CV] batch_size=16, epochs=50 ........................................\n"
          ],
          "name": "stdout"
        },
        {
          "output_type": "stream",
          "text": [
            "[Parallel(n_jobs=1)]: Done   9 out of   9 | elapsed:    9.9s remaining:    0.0s\n"
          ],
          "name": "stderr"
        },
        {
          "output_type": "stream",
          "text": [
            "[CV] ............ batch_size=16, epochs=50, score=0.795, total=   1.5s\n",
            "[CV] batch_size=16, epochs=100 .......................................\n",
            "[CV] ........... batch_size=16, epochs=100, score=0.734, total=   2.4s\n",
            "[CV] batch_size=16, epochs=100 .......................................\n",
            "[CV] ........... batch_size=16, epochs=100, score=0.696, total=   2.5s\n",
            "[CV] batch_size=16, epochs=100 .......................................\n",
            "[CV] ........... batch_size=16, epochs=100, score=0.782, total=   2.5s\n",
            "[CV] batch_size=16, epochs=100 .......................................\n",
            "[CV] ........... batch_size=16, epochs=100, score=0.795, total=   2.5s\n",
            "[CV] batch_size=16, epochs=100 .......................................\n",
            "[CV] ........... batch_size=16, epochs=100, score=0.795, total=   2.7s\n",
            "[CV] batch_size=32, epochs=10 ........................................\n",
            "[CV] ............ batch_size=32, epochs=10, score=0.785, total=   0.6s\n",
            "[CV] batch_size=32, epochs=10 ........................................\n",
            "[CV] ............ batch_size=32, epochs=10, score=0.608, total=   0.7s\n",
            "[CV] batch_size=32, epochs=10 ........................................\n",
            "[CV] ............ batch_size=32, epochs=10, score=0.795, total=   0.7s\n",
            "[CV] batch_size=32, epochs=10 ........................................\n",
            "[CV] ............ batch_size=32, epochs=10, score=0.808, total=   0.6s\n",
            "[CV] batch_size=32, epochs=10 ........................................\n",
            "[CV] ............ batch_size=32, epochs=10, score=0.846, total=   0.7s\n",
            "[CV] batch_size=32, epochs=50 ........................................\n",
            "[CV] ............ batch_size=32, epochs=50, score=0.734, total=   1.0s\n",
            "[CV] batch_size=32, epochs=50 ........................................\n",
            "[CV] ............ batch_size=32, epochs=50, score=0.620, total=   1.1s\n",
            "[CV] batch_size=32, epochs=50 ........................................\n",
            "[CV] ............ batch_size=32, epochs=50, score=0.833, total=   1.1s\n",
            "[CV] batch_size=32, epochs=50 ........................................\n",
            "[CV] ............ batch_size=32, epochs=50, score=0.859, total=   1.0s\n",
            "[CV] batch_size=32, epochs=50 ........................................\n",
            "[CV] ............ batch_size=32, epochs=50, score=0.859, total=   1.3s\n",
            "[CV] batch_size=32, epochs=100 .......................................\n",
            "[CV] ........... batch_size=32, epochs=100, score=0.747, total=   1.5s\n",
            "[CV] batch_size=32, epochs=100 .......................................\n",
            "[CV] ........... batch_size=32, epochs=100, score=0.633, total=   1.5s\n",
            "[CV] batch_size=32, epochs=100 .......................................\n",
            "[CV] ........... batch_size=32, epochs=100, score=0.808, total=   1.5s\n",
            "[CV] batch_size=32, epochs=100 .......................................\n",
            "[CV] ........... batch_size=32, epochs=100, score=0.808, total=   1.5s\n",
            "[CV] batch_size=32, epochs=100 .......................................\n",
            "[CV] ........... batch_size=32, epochs=100, score=0.821, total=   1.7s\n",
            "[CV] batch_size=64, epochs=10 ........................................\n",
            "[CV] ............ batch_size=64, epochs=10, score=0.772, total=   0.7s\n",
            "[CV] batch_size=64, epochs=10 ........................................\n",
            "[CV] ............ batch_size=64, epochs=10, score=0.608, total=   0.7s\n",
            "[CV] batch_size=64, epochs=10 ........................................\n",
            "[CV] ............ batch_size=64, epochs=10, score=0.808, total=   0.6s\n",
            "[CV] batch_size=64, epochs=10 ........................................\n",
            "[CV] ............ batch_size=64, epochs=10, score=0.808, total=   0.7s\n",
            "[CV] batch_size=64, epochs=10 ........................................\n",
            "[CV] ............ batch_size=64, epochs=10, score=0.821, total=   0.9s\n",
            "[CV] batch_size=64, epochs=50 ........................................\n",
            "[CV] ............ batch_size=64, epochs=50, score=0.759, total=   0.9s\n",
            "[CV] batch_size=64, epochs=50 ........................................\n",
            "[CV] ............ batch_size=64, epochs=50, score=0.620, total=   0.8s\n",
            "[CV] batch_size=64, epochs=50 ........................................\n",
            "[CV] ............ batch_size=64, epochs=50, score=0.833, total=   0.8s\n",
            "[CV] batch_size=64, epochs=50 ........................................\n",
            "[CV] ............ batch_size=64, epochs=50, score=0.859, total=   0.8s\n",
            "[CV] batch_size=64, epochs=50 ........................................\n",
            "[CV] ............ batch_size=64, epochs=50, score=0.833, total=   0.9s\n",
            "[CV] batch_size=64, epochs=100 .......................................\n",
            "[CV] ........... batch_size=64, epochs=100, score=0.747, total=   1.1s\n",
            "[CV] batch_size=64, epochs=100 .......................................\n",
            "[CV] ........... batch_size=64, epochs=100, score=0.709, total=   1.1s\n",
            "[CV] batch_size=64, epochs=100 .......................................\n",
            "[CV] ........... batch_size=64, epochs=100, score=0.821, total=   1.1s\n",
            "[CV] batch_size=64, epochs=100 .......................................\n",
            "[CV] ........... batch_size=64, epochs=100, score=0.821, total=   1.1s\n",
            "[CV] batch_size=64, epochs=100 .......................................\n",
            "[CV] ........... batch_size=64, epochs=100, score=0.833, total=   1.2s\n",
            "[CV] batch_size=128, epochs=10 .......................................\n",
            "[CV] ........... batch_size=128, epochs=10, score=0.785, total=   0.6s\n",
            "[CV] batch_size=128, epochs=10 .......................................\n",
            "[CV] ........... batch_size=128, epochs=10, score=0.646, total=   0.9s\n",
            "[CV] batch_size=128, epochs=10 .......................................\n",
            "[CV] ........... batch_size=128, epochs=10, score=0.808, total=   0.6s\n",
            "[CV] batch_size=128, epochs=10 .......................................\n",
            "[CV] ........... batch_size=128, epochs=10, score=0.833, total=   0.6s\n",
            "[CV] batch_size=128, epochs=10 .......................................\n",
            "[CV] ........... batch_size=128, epochs=10, score=0.808, total=   0.6s\n",
            "[CV] batch_size=128, epochs=50 .......................................\n",
            "[CV] ........... batch_size=128, epochs=50, score=0.772, total=   0.7s\n",
            "[CV] batch_size=128, epochs=50 .......................................\n",
            "[CV] ........... batch_size=128, epochs=50, score=0.582, total=   0.7s\n",
            "[CV] batch_size=128, epochs=50 .......................................\n",
            "[CV] ........... batch_size=128, epochs=50, score=0.821, total=   0.7s\n",
            "[CV] batch_size=128, epochs=50 .......................................\n",
            "[CV] ........... batch_size=128, epochs=50, score=0.846, total=   0.7s\n",
            "[CV] batch_size=128, epochs=50 .......................................\n",
            "[CV] ........... batch_size=128, epochs=50, score=0.833, total=   0.7s\n",
            "[CV] batch_size=128, epochs=100 ......................................\n",
            "[CV] .......... batch_size=128, epochs=100, score=0.759, total=   0.9s\n",
            "[CV] batch_size=128, epochs=100 ......................................\n",
            "[CV] .......... batch_size=128, epochs=100, score=0.633, total=   0.9s\n",
            "[CV] batch_size=128, epochs=100 ......................................\n",
            "[CV] .......... batch_size=128, epochs=100, score=0.846, total=   1.2s\n",
            "[CV] batch_size=128, epochs=100 ......................................\n",
            "[CV] .......... batch_size=128, epochs=100, score=0.859, total=   0.9s\n",
            "[CV] batch_size=128, epochs=100 ......................................\n",
            "[CV] .......... batch_size=128, epochs=100, score=0.846, total=   0.9s\n"
          ],
          "name": "stdout"
        },
        {
          "output_type": "stream",
          "text": [
            "[Parallel(n_jobs=1)]: Done  60 out of  60 | elapsed:  1.1min finished\n"
          ],
          "name": "stderr"
        },
        {
          "output_type": "stream",
          "text": [
            "Best: 0.788737416267395, using {'batch_size': 128, 'epochs': 100}\n",
            "0.7708860754966735 (0.08862296353002007) with: {'batch_size': 16, 'epochs': 10}\n",
            "0.7425511240959167 (0.05569572585555527) with: {'batch_size': 16, 'epochs': 50}\n",
            "0.7604349255561829 (0.039126289397289536) with: {'batch_size': 16, 'epochs': 100}\n",
            "0.7682245969772339 (0.08296712461375834) with: {'batch_size': 32, 'epochs': 10}\n",
            "0.7811424732208252 (0.0926613097668695) with: {'batch_size': 32, 'epochs': 50}\n",
            "0.7631288528442383 (0.0699811177428971) with: {'batch_size': 32, 'epochs': 100}\n",
            "0.7631288409233093 (0.07941907087664095) with: {'batch_size': 64, 'epochs': 10}\n",
            "0.7810775518417359 (0.08701677188663852) with: {'batch_size': 64, 'epochs': 50}\n",
            "0.7860110402107239 (0.04920779716540022) with: {'batch_size': 64, 'epochs': 100}\n",
            "0.7758195281028748 (0.0669110604888478) with: {'batch_size': 128, 'epochs': 10}\n",
            "0.7708860754966735 (0.09757267512406968) with: {'batch_size': 128, 'epochs': 50}\n",
            "0.788737416267395 (0.08563115120785049) with: {'batch_size': 128, 'epochs': 100}\n"
          ],
          "name": "stdout"
        }
      ]
    },
    {
      "cell_type": "code",
      "metadata": {
        "id": "RhkTyq3LXipI",
        "colab_type": "code",
        "colab": {}
      },
      "source": [
        "best_batch_size = grid_results.best_params_['batch_size'] #128 # 64 , 32\n",
        "best_epochs = grid_results.best_params_['epochs'] #100 # 10  ,  50\n",
        "#Best: 0.7962674498558044 with model2"
      ],
      "execution_count": 15,
      "outputs": []
    },
    {
      "cell_type": "code",
      "metadata": {
        "id": "oeuUNcVTXipK",
        "colab_type": "code",
        "colab": {
          "base_uri": "https://localhost:8080/",
          "height": 1000
        },
        "outputId": "91c9f5d5-9037-469b-df91-eafb89f3a4b9"
      },
      "source": [
        "\n",
        "# Do a grid search for learning rate and dropout rate\n",
        "# import necessary packages\n",
        "from keras.layers import Dropout\n",
        "\n",
        "# Define a random seed\n",
        "seed = 6\n",
        "np.random.seed(seed)\n",
        "\n",
        "# Start defining the model\n",
        "def create_model(learn_rate, dropout_rate):\n",
        "    # create model\n",
        "    model = Sequential()\n",
        "    model.add(Dense(8, input_dim = 8, kernel_initializer='normal', activation='relu'))\n",
        "    model.add(Dropout(dropout_rate))\n",
        "    model.add(Dense(4, input_dim = 8, kernel_initializer='normal', activation='relu'))\n",
        "    model.add(Dropout(dropout_rate))\n",
        "    model.add(Dense(1, activation='sigmoid'))\n",
        "    \n",
        "    # compile the model\n",
        "    adam = Adam(lr = learn_rate)\n",
        "    model.compile(loss = 'binary_crossentropy', optimizer = adam, metrics = ['accuracy'])\n",
        "    return model\n",
        "\n",
        "\n",
        "# create the model\n",
        "model = KerasClassifier(build_fn = create_model, epochs = best_epochs, batch_size = best_batch_size, verbose = 0)\n",
        "\n",
        "# define the grid search parameters\n",
        "learn_rate = [0.001, 0.01, 0.1]\n",
        "dropout_rate = [0.0, 0.1, 0.2, 0.4]\n",
        "\n",
        "# make a dictionary of the grid search parameters\n",
        "param_grid = dict(learn_rate=learn_rate, dropout_rate=dropout_rate)\n",
        "\n",
        "# build and fit the GridSearchCV\n",
        "grid = GridSearchCV(estimator = model, param_grid = param_grid, cv = KFold(random_state=seed), verbose = 10)\n",
        "grid_results = grid.fit(X_standardized, Y)\n",
        "\n",
        "# summarize the results\n",
        "print(\"Best: {0}, using {1}\".format(grid_results.best_score_, grid_results.best_params_))\n",
        "means = grid_results.cv_results_['mean_test_score']\n",
        "stds = grid_results.cv_results_['std_test_score']\n",
        "params = grid_results.cv_results_['params']\n",
        "for mean, stdev, param in zip(means, stds, params):\n",
        "    print('{0} ({1}) with: {2}'.format(mean, stdev, param))"
      ],
      "execution_count": 16,
      "outputs": [
        {
          "output_type": "stream",
          "text": [
            "/usr/local/lib/python3.6/dist-packages/sklearn/model_selection/_split.py:296: FutureWarning: Setting a random_state has no effect since shuffle is False. This will raise an error in 0.24. You should leave random_state to its default (None), or set shuffle=True.\n",
            "  FutureWarning\n",
            "[Parallel(n_jobs=1)]: Using backend SequentialBackend with 1 concurrent workers.\n"
          ],
          "name": "stderr"
        },
        {
          "output_type": "stream",
          "text": [
            "Fitting 5 folds for each of 12 candidates, totalling 60 fits\n",
            "[CV] dropout_rate=0.0, learn_rate=0.001 ..............................\n",
            "[CV] .. dropout_rate=0.0, learn_rate=0.001, score=0.797, total=   1.0s\n",
            "[CV] dropout_rate=0.0, learn_rate=0.001 ..............................\n"
          ],
          "name": "stdout"
        },
        {
          "output_type": "stream",
          "text": [
            "[Parallel(n_jobs=1)]: Done   1 out of   1 | elapsed:    1.0s remaining:    0.0s\n"
          ],
          "name": "stderr"
        },
        {
          "output_type": "stream",
          "text": [
            "[CV] .. dropout_rate=0.0, learn_rate=0.001, score=0.620, total=   0.9s\n",
            "[CV] dropout_rate=0.0, learn_rate=0.001 ..............................\n"
          ],
          "name": "stdout"
        },
        {
          "output_type": "stream",
          "text": [
            "[Parallel(n_jobs=1)]: Done   2 out of   2 | elapsed:    1.9s remaining:    0.0s\n"
          ],
          "name": "stderr"
        },
        {
          "output_type": "stream",
          "text": [
            "[CV] .. dropout_rate=0.0, learn_rate=0.001, score=0.808, total=   0.9s\n",
            "[CV] dropout_rate=0.0, learn_rate=0.001 ..............................\n"
          ],
          "name": "stdout"
        },
        {
          "output_type": "stream",
          "text": [
            "[Parallel(n_jobs=1)]: Done   3 out of   3 | elapsed:    2.8s remaining:    0.0s\n"
          ],
          "name": "stderr"
        },
        {
          "output_type": "stream",
          "text": [
            "[CV] .. dropout_rate=0.0, learn_rate=0.001, score=0.795, total=   1.0s\n",
            "[CV] dropout_rate=0.0, learn_rate=0.001 ..............................\n"
          ],
          "name": "stdout"
        },
        {
          "output_type": "stream",
          "text": [
            "[Parallel(n_jobs=1)]: Done   4 out of   4 | elapsed:    3.8s remaining:    0.0s\n"
          ],
          "name": "stderr"
        },
        {
          "output_type": "stream",
          "text": [
            "[CV] .. dropout_rate=0.0, learn_rate=0.001, score=0.821, total=   0.9s\n",
            "[CV] dropout_rate=0.0, learn_rate=0.01 ...............................\n"
          ],
          "name": "stdout"
        },
        {
          "output_type": "stream",
          "text": [
            "[Parallel(n_jobs=1)]: Done   5 out of   5 | elapsed:    4.8s remaining:    0.0s\n"
          ],
          "name": "stderr"
        },
        {
          "output_type": "stream",
          "text": [
            "[CV] ... dropout_rate=0.0, learn_rate=0.01, score=0.797, total=   1.0s\n",
            "[CV] dropout_rate=0.0, learn_rate=0.01 ...............................\n"
          ],
          "name": "stdout"
        },
        {
          "output_type": "stream",
          "text": [
            "[Parallel(n_jobs=1)]: Done   6 out of   6 | elapsed:    5.7s remaining:    0.0s\n"
          ],
          "name": "stderr"
        },
        {
          "output_type": "stream",
          "text": [
            "[CV] ... dropout_rate=0.0, learn_rate=0.01, score=0.608, total=   0.9s\n",
            "[CV] dropout_rate=0.0, learn_rate=0.01 ...............................\n"
          ],
          "name": "stdout"
        },
        {
          "output_type": "stream",
          "text": [
            "[Parallel(n_jobs=1)]: Done   7 out of   7 | elapsed:    6.6s remaining:    0.0s\n"
          ],
          "name": "stderr"
        },
        {
          "output_type": "stream",
          "text": [
            "[CV] ... dropout_rate=0.0, learn_rate=0.01, score=0.821, total=   0.9s\n",
            "[CV] dropout_rate=0.0, learn_rate=0.01 ...............................\n"
          ],
          "name": "stdout"
        },
        {
          "output_type": "stream",
          "text": [
            "[Parallel(n_jobs=1)]: Done   8 out of   8 | elapsed:    7.6s remaining:    0.0s\n"
          ],
          "name": "stderr"
        },
        {
          "output_type": "stream",
          "text": [
            "[CV] ... dropout_rate=0.0, learn_rate=0.01, score=0.833, total=   0.9s\n",
            "[CV] dropout_rate=0.0, learn_rate=0.01 ...............................\n"
          ],
          "name": "stdout"
        },
        {
          "output_type": "stream",
          "text": [
            "[Parallel(n_jobs=1)]: Done   9 out of   9 | elapsed:    8.5s remaining:    0.0s\n"
          ],
          "name": "stderr"
        },
        {
          "output_type": "stream",
          "text": [
            "[CV] ... dropout_rate=0.0, learn_rate=0.01, score=0.846, total=   1.3s\n",
            "[CV] dropout_rate=0.0, learn_rate=0.1 ................................\n",
            "[CV] .... dropout_rate=0.0, learn_rate=0.1, score=0.722, total=   0.9s\n",
            "[CV] dropout_rate=0.0, learn_rate=0.1 ................................\n",
            "[CV] .... dropout_rate=0.0, learn_rate=0.1, score=0.709, total=   0.9s\n",
            "[CV] dropout_rate=0.0, learn_rate=0.1 ................................\n",
            "[CV] .... dropout_rate=0.0, learn_rate=0.1, score=0.795, total=   0.9s\n",
            "[CV] dropout_rate=0.0, learn_rate=0.1 ................................\n",
            "[CV] .... dropout_rate=0.0, learn_rate=0.1, score=0.795, total=   1.0s\n",
            "[CV] dropout_rate=0.0, learn_rate=0.1 ................................\n",
            "[CV] .... dropout_rate=0.0, learn_rate=0.1, score=0.795, total=   1.0s\n",
            "[CV] dropout_rate=0.1, learn_rate=0.001 ..............................\n",
            "[CV] .. dropout_rate=0.1, learn_rate=0.001, score=0.785, total=   1.1s\n",
            "[CV] dropout_rate=0.1, learn_rate=0.001 ..............................\n",
            "[CV] .. dropout_rate=0.1, learn_rate=0.001, score=0.595, total=   1.1s\n",
            "[CV] dropout_rate=0.1, learn_rate=0.001 ..............................\n",
            "[CV] .. dropout_rate=0.1, learn_rate=0.001, score=0.808, total=   1.1s\n",
            "[CV] dropout_rate=0.1, learn_rate=0.001 ..............................\n",
            "[CV] .. dropout_rate=0.1, learn_rate=0.001, score=0.808, total=   1.1s\n",
            "[CV] dropout_rate=0.1, learn_rate=0.001 ..............................\n",
            "[CV] .. dropout_rate=0.1, learn_rate=0.001, score=0.833, total=   1.1s\n",
            "[CV] dropout_rate=0.1, learn_rate=0.01 ...............................\n",
            "[CV] ... dropout_rate=0.1, learn_rate=0.01, score=0.747, total=   1.1s\n",
            "[CV] dropout_rate=0.1, learn_rate=0.01 ...............................\n",
            "[CV] ... dropout_rate=0.1, learn_rate=0.01, score=0.633, total=   1.5s\n",
            "[CV] dropout_rate=0.1, learn_rate=0.01 ...............................\n",
            "[CV] ... dropout_rate=0.1, learn_rate=0.01, score=0.821, total=   1.1s\n",
            "[CV] dropout_rate=0.1, learn_rate=0.01 ...............................\n",
            "[CV] ... dropout_rate=0.1, learn_rate=0.01, score=0.872, total=   1.1s\n",
            "[CV] dropout_rate=0.1, learn_rate=0.01 ...............................\n",
            "[CV] ... dropout_rate=0.1, learn_rate=0.01, score=0.795, total=   1.1s\n",
            "[CV] dropout_rate=0.1, learn_rate=0.1 ................................\n",
            "[CV] .... dropout_rate=0.1, learn_rate=0.1, score=0.684, total=   1.1s\n",
            "[CV] dropout_rate=0.1, learn_rate=0.1 ................................\n",
            "[CV] .... dropout_rate=0.1, learn_rate=0.1, score=0.582, total=   1.1s\n",
            "[CV] dropout_rate=0.1, learn_rate=0.1 ................................\n",
            "[CV] .... dropout_rate=0.1, learn_rate=0.1, score=0.821, total=   1.1s\n",
            "[CV] dropout_rate=0.1, learn_rate=0.1 ................................\n",
            "[CV] .... dropout_rate=0.1, learn_rate=0.1, score=0.808, total=   1.1s\n",
            "[CV] dropout_rate=0.1, learn_rate=0.1 ................................\n",
            "[CV] .... dropout_rate=0.1, learn_rate=0.1, score=0.833, total=   1.1s\n",
            "[CV] dropout_rate=0.2, learn_rate=0.001 ..............................\n",
            "[CV] .. dropout_rate=0.2, learn_rate=0.001, score=0.810, total=   1.1s\n",
            "[CV] dropout_rate=0.2, learn_rate=0.001 ..............................\n",
            "[CV] .. dropout_rate=0.2, learn_rate=0.001, score=0.595, total=   1.1s\n",
            "[CV] dropout_rate=0.2, learn_rate=0.001 ..............................\n",
            "[CV] .. dropout_rate=0.2, learn_rate=0.001, score=0.833, total=   1.1s\n",
            "[CV] dropout_rate=0.2, learn_rate=0.001 ..............................\n",
            "[CV] .. dropout_rate=0.2, learn_rate=0.001, score=0.795, total=   1.5s\n",
            "[CV] dropout_rate=0.2, learn_rate=0.001 ..............................\n",
            "[CV] .. dropout_rate=0.2, learn_rate=0.001, score=0.833, total=   1.2s\n",
            "[CV] dropout_rate=0.2, learn_rate=0.01 ...............................\n",
            "[CV] ... dropout_rate=0.2, learn_rate=0.01, score=0.759, total=   1.1s\n",
            "[CV] dropout_rate=0.2, learn_rate=0.01 ...............................\n",
            "[CV] ... dropout_rate=0.2, learn_rate=0.01, score=0.608, total=   1.1s\n",
            "[CV] dropout_rate=0.2, learn_rate=0.01 ...............................\n",
            "[CV] ... dropout_rate=0.2, learn_rate=0.01, score=0.821, total=   1.1s\n",
            "[CV] dropout_rate=0.2, learn_rate=0.01 ...............................\n",
            "[CV] ... dropout_rate=0.2, learn_rate=0.01, score=0.872, total=   1.1s\n",
            "[CV] dropout_rate=0.2, learn_rate=0.01 ...............................\n",
            "[CV] ... dropout_rate=0.2, learn_rate=0.01, score=0.808, total=   1.1s\n",
            "[CV] dropout_rate=0.2, learn_rate=0.1 ................................\n",
            "[CV] .... dropout_rate=0.2, learn_rate=0.1, score=0.734, total=   1.1s\n",
            "[CV] dropout_rate=0.2, learn_rate=0.1 ................................\n",
            "[CV] .... dropout_rate=0.2, learn_rate=0.1, score=0.620, total=   1.1s\n",
            "[CV] dropout_rate=0.2, learn_rate=0.1 ................................\n",
            "[CV] .... dropout_rate=0.2, learn_rate=0.1, score=0.782, total=   1.1s\n",
            "[CV] dropout_rate=0.2, learn_rate=0.1 ................................\n",
            "[CV] .... dropout_rate=0.2, learn_rate=0.1, score=0.846, total=   1.1s\n",
            "[CV] dropout_rate=0.2, learn_rate=0.1 ................................\n",
            "[CV] .... dropout_rate=0.2, learn_rate=0.1, score=0.833, total=   1.1s\n",
            "[CV] dropout_rate=0.4, learn_rate=0.001 ..............................\n",
            "[CV] .. dropout_rate=0.4, learn_rate=0.001, score=0.810, total=   1.1s\n",
            "[CV] dropout_rate=0.4, learn_rate=0.001 ..............................\n",
            "[CV] .. dropout_rate=0.4, learn_rate=0.001, score=0.595, total=   1.6s\n",
            "[CV] dropout_rate=0.4, learn_rate=0.001 ..............................\n",
            "[CV] .. dropout_rate=0.4, learn_rate=0.001, score=0.705, total=   1.2s\n",
            "[CV] dropout_rate=0.4, learn_rate=0.001 ..............................\n",
            "[CV] .. dropout_rate=0.4, learn_rate=0.001, score=0.808, total=   1.1s\n",
            "[CV] dropout_rate=0.4, learn_rate=0.001 ..............................\n",
            "[CV] .. dropout_rate=0.4, learn_rate=0.001, score=0.808, total=   1.1s\n",
            "[CV] dropout_rate=0.4, learn_rate=0.01 ...............................\n",
            "[CV] ... dropout_rate=0.4, learn_rate=0.01, score=0.722, total=   1.1s\n",
            "[CV] dropout_rate=0.4, learn_rate=0.01 ...............................\n",
            "[CV] ... dropout_rate=0.4, learn_rate=0.01, score=0.608, total=   1.1s\n",
            "[CV] dropout_rate=0.4, learn_rate=0.01 ...............................\n",
            "[CV] ... dropout_rate=0.4, learn_rate=0.01, score=0.795, total=   1.1s\n",
            "[CV] dropout_rate=0.4, learn_rate=0.01 ...............................\n",
            "[CV] ... dropout_rate=0.4, learn_rate=0.01, score=0.833, total=   1.2s\n",
            "[CV] dropout_rate=0.4, learn_rate=0.01 ...............................\n",
            "[CV] ... dropout_rate=0.4, learn_rate=0.01, score=0.846, total=   1.1s\n",
            "[CV] dropout_rate=0.4, learn_rate=0.1 ................................\n",
            "[CV] .... dropout_rate=0.4, learn_rate=0.1, score=0.772, total=   1.2s\n",
            "[CV] dropout_rate=0.4, learn_rate=0.1 ................................\n",
            "[CV] .... dropout_rate=0.4, learn_rate=0.1, score=0.620, total=   1.2s\n",
            "[CV] dropout_rate=0.4, learn_rate=0.1 ................................\n",
            "[CV] .... dropout_rate=0.4, learn_rate=0.1, score=0.808, total=   1.1s\n",
            "[CV] dropout_rate=0.4, learn_rate=0.1 ................................\n",
            "[CV] .... dropout_rate=0.4, learn_rate=0.1, score=0.808, total=   1.1s\n",
            "[CV] dropout_rate=0.4, learn_rate=0.1 ................................\n",
            "[CV] .... dropout_rate=0.4, learn_rate=0.1, score=0.679, total=   1.1s\n"
          ],
          "name": "stdout"
        },
        {
          "output_type": "stream",
          "text": [
            "[Parallel(n_jobs=1)]: Done  60 out of  60 | elapsed:  1.1min finished\n"
          ],
          "name": "stderr"
        },
        {
          "output_type": "stream",
          "text": [
            "Best: 0.7810126543045044, using {'dropout_rate': 0.0, 'learn_rate': 0.01}\n",
            "0.7681596875190735 (0.0745017573484862) with: {'dropout_rate': 0.0, 'learn_rate': 0.001}\n",
            "0.7810126543045044 (0.08818797740289828) with: {'dropout_rate': 0.0, 'learn_rate': 0.01}\n",
            "0.7629990339279175 (0.039240713606295524) with: {'dropout_rate': 0.0, 'learn_rate': 0.1}\n",
            "0.765692949295044 (0.08674821194935547) with: {'dropout_rate': 0.1, 'learn_rate': 0.001}\n",
            "0.7733852744102478 (0.08099991854232982) with: {'dropout_rate': 0.1, 'learn_rate': 0.01}\n",
            "0.7454722404479981 (0.09766193278658082) with: {'dropout_rate': 0.1, 'learn_rate': 0.1}\n",
            "0.7733203530311584 (0.0903803004336653) with: {'dropout_rate': 0.2, 'learn_rate': 0.001}\n",
            "0.7734177112579346 (0.09029047133915956) with: {'dropout_rate': 0.2, 'learn_rate': 0.01}\n",
            "0.7631937623023987 (0.08176982084815004) with: {'dropout_rate': 0.2, 'learn_rate': 0.1}\n",
            "0.7451152205467224 (0.08510088218537588) with: {'dropout_rate': 0.4, 'learn_rate': 0.001}\n",
            "0.7606945753097534 (0.08800226424749998) with: {'dropout_rate': 0.4, 'learn_rate': 0.01}\n",
            "0.7374553561210633 (0.07505594145015247) with: {'dropout_rate': 0.4, 'learn_rate': 0.1}\n"
          ],
          "name": "stdout"
        }
      ]
    },
    {
      "cell_type": "code",
      "metadata": {
        "id": "0aa18z6mXipM",
        "colab_type": "code",
        "colab": {}
      },
      "source": [
        "best_dropout_rate = grid_results.best_params_['dropout_rate'] #0.1 # 0.0\n",
        "best_learn_rate = grid_results.best_params_['learn_rate'] #0.01"
      ],
      "execution_count": 17,
      "outputs": []
    },
    {
      "cell_type": "code",
      "metadata": {
        "id": "Ob0enlf_XipO",
        "colab_type": "code",
        "colab": {
          "base_uri": "https://localhost:8080/",
          "height": 1000
        },
        "outputId": "57cd3fd3-8748-4091-ef8e-ad13eb4500b9"
      },
      "source": [
        "\n",
        "# Do a grid search to optimize kernel initialization and activation functions\n",
        "# import necessary packages\n",
        "\n",
        "# Define a random seed\n",
        "seed = 6\n",
        "np.random.seed(seed)\n",
        "'''\n",
        "# Start defining the model\n",
        "def create_model(activation, init):\n",
        "    # create model\n",
        "    model = Sequential()\n",
        "    model.add(Dense(8, input_dim = 8, kernel_initializer= init, activation= activation))\n",
        "    model.add(Dense(16, input_dim = 8, kernel_initializer= init, activation= activation))\n",
        "    model.add(Dense(8, input_dim = 16, kernel_initializer= init, activation= activation))\n",
        "    model.add(Dense(1, activation='sigmoid'))\n",
        "\n",
        "    # compile the model\n",
        "    adam = Adam(lr = best_learn_rate)\n",
        "    model.compile(loss = 'binary_crossentropy', optimizer = adam, metrics = ['accuracy'])\n",
        "    return model\n",
        "\n",
        "'''\n",
        "def create_model(activation, init):\n",
        "    # create model\n",
        "    model = Sequential()\n",
        "    model.add(Dense(8, input_dim = 8, kernel_initializer= init, activation= activation))\n",
        "    model.add(Dense(4, input_dim = 8, kernel_initializer= init, activation= activation))\n",
        "    model.add(Dense(1, activation='sigmoid'))\n",
        "    \n",
        "    # compile the model\n",
        "    adam = Adam(lr = best_learn_rate)\n",
        "    model.compile(loss = 'binary_crossentropy', optimizer = adam, metrics = ['accuracy'])\n",
        "    return model\n",
        "\n",
        "\n",
        "# create the model\n",
        "model = KerasClassifier(build_fn = create_model, epochs = best_epochs, batch_size = best_batch_size, verbose = 0)\n",
        "\n",
        "# define the grid search parameters\n",
        "activation = ['softmax', 'relu', 'tanh', 'linear']\n",
        "init = ['uniform', 'normal', 'zero']\n",
        "\n",
        "# make a dictionary of the grid search parameters\n",
        "param_grid = dict(activation = activation, init = init)\n",
        "\n",
        "# build and fit the GridSearchCV\n",
        "grid = GridSearchCV(estimator = model, param_grid = param_grid, cv = KFold(random_state=seed), verbose = 10)\n",
        "grid_results = grid.fit(X_standardized, Y)\n",
        "\n",
        "# summarize the results\n",
        "print(\"Best: {0}, using {1}\".format(grid_results.best_score_, grid_results.best_params_))\n",
        "means = grid_results.cv_results_['mean_test_score']\n",
        "stds = grid_results.cv_results_['std_test_score']\n",
        "params = grid_results.cv_results_['params']\n",
        "for mean, stdev, param in zip(means, stds, params):\n",
        "    print('{0} ({1}) with: {2}'.format(mean, stdev, param))"
      ],
      "execution_count": 18,
      "outputs": [
        {
          "output_type": "stream",
          "text": [
            "Fitting 5 folds for each of 12 candidates, totalling 60 fits\n",
            "[CV] activation=softmax, init=uniform ................................\n"
          ],
          "name": "stdout"
        },
        {
          "output_type": "stream",
          "text": [
            "/usr/local/lib/python3.6/dist-packages/sklearn/model_selection/_split.py:296: FutureWarning: Setting a random_state has no effect since shuffle is False. This will raise an error in 0.24. You should leave random_state to its default (None), or set shuffle=True.\n",
            "  FutureWarning\n",
            "[Parallel(n_jobs=1)]: Using backend SequentialBackend with 1 concurrent workers.\n"
          ],
          "name": "stderr"
        },
        {
          "output_type": "stream",
          "text": [
            "[CV] .... activation=softmax, init=uniform, score=0.747, total=   1.5s\n",
            "[CV] activation=softmax, init=uniform ................................\n"
          ],
          "name": "stdout"
        },
        {
          "output_type": "stream",
          "text": [
            "[Parallel(n_jobs=1)]: Done   1 out of   1 | elapsed:    1.5s remaining:    0.0s\n"
          ],
          "name": "stderr"
        },
        {
          "output_type": "stream",
          "text": [
            "[CV] .... activation=softmax, init=uniform, score=0.608, total=   1.0s\n",
            "[CV] activation=softmax, init=uniform ................................\n"
          ],
          "name": "stdout"
        },
        {
          "output_type": "stream",
          "text": [
            "[Parallel(n_jobs=1)]: Done   2 out of   2 | elapsed:    2.5s remaining:    0.0s\n"
          ],
          "name": "stderr"
        },
        {
          "output_type": "stream",
          "text": [
            "[CV] .... activation=softmax, init=uniform, score=0.808, total=   1.0s\n",
            "[CV] activation=softmax, init=uniform ................................\n"
          ],
          "name": "stdout"
        },
        {
          "output_type": "stream",
          "text": [
            "[Parallel(n_jobs=1)]: Done   3 out of   3 | elapsed:    3.5s remaining:    0.0s\n"
          ],
          "name": "stderr"
        },
        {
          "output_type": "stream",
          "text": [
            "[CV] .... activation=softmax, init=uniform, score=0.808, total=   1.0s\n",
            "[CV] activation=softmax, init=uniform ................................\n"
          ],
          "name": "stdout"
        },
        {
          "output_type": "stream",
          "text": [
            "[Parallel(n_jobs=1)]: Done   4 out of   4 | elapsed:    4.5s remaining:    0.0s\n"
          ],
          "name": "stderr"
        },
        {
          "output_type": "stream",
          "text": [
            "[CV] .... activation=softmax, init=uniform, score=0.846, total=   1.0s\n",
            "[CV] activation=softmax, init=normal .................................\n"
          ],
          "name": "stdout"
        },
        {
          "output_type": "stream",
          "text": [
            "[Parallel(n_jobs=1)]: Done   5 out of   5 | elapsed:    5.5s remaining:    0.0s\n"
          ],
          "name": "stderr"
        },
        {
          "output_type": "stream",
          "text": [
            "[CV] ..... activation=softmax, init=normal, score=0.734, total=   1.0s\n",
            "[CV] activation=softmax, init=normal .................................\n"
          ],
          "name": "stdout"
        },
        {
          "output_type": "stream",
          "text": [
            "[Parallel(n_jobs=1)]: Done   6 out of   6 | elapsed:    6.5s remaining:    0.0s\n"
          ],
          "name": "stderr"
        },
        {
          "output_type": "stream",
          "text": [
            "[CV] ..... activation=softmax, init=normal, score=0.608, total=   1.0s\n",
            "[CV] activation=softmax, init=normal .................................\n"
          ],
          "name": "stdout"
        },
        {
          "output_type": "stream",
          "text": [
            "[Parallel(n_jobs=1)]: Done   7 out of   7 | elapsed:    7.5s remaining:    0.0s\n"
          ],
          "name": "stderr"
        },
        {
          "output_type": "stream",
          "text": [
            "[CV] ..... activation=softmax, init=normal, score=0.833, total=   1.0s\n",
            "[CV] activation=softmax, init=normal .................................\n"
          ],
          "name": "stdout"
        },
        {
          "output_type": "stream",
          "text": [
            "[Parallel(n_jobs=1)]: Done   8 out of   8 | elapsed:    8.5s remaining:    0.0s\n"
          ],
          "name": "stderr"
        },
        {
          "output_type": "stream",
          "text": [
            "[CV] ..... activation=softmax, init=normal, score=0.808, total=   1.0s\n",
            "[CV] activation=softmax, init=normal .................................\n"
          ],
          "name": "stdout"
        },
        {
          "output_type": "stream",
          "text": [
            "[Parallel(n_jobs=1)]: Done   9 out of   9 | elapsed:    9.5s remaining:    0.0s\n"
          ],
          "name": "stderr"
        },
        {
          "output_type": "stream",
          "text": [
            "[CV] ..... activation=softmax, init=normal, score=0.859, total=   1.0s\n",
            "[CV] activation=softmax, init=zero ...................................\n",
            "[CV] ....... activation=softmax, init=zero, score=0.646, total=   1.0s\n",
            "[CV] activation=softmax, init=zero ...................................\n",
            "[CV] ....... activation=softmax, init=zero, score=0.570, total=   1.0s\n",
            "[CV] activation=softmax, init=zero ...................................\n",
            "[CV] ....... activation=softmax, init=zero, score=0.705, total=   1.0s\n",
            "[CV] activation=softmax, init=zero ...................................\n",
            "[CV] ....... activation=softmax, init=zero, score=0.744, total=   1.0s\n",
            "[CV] activation=softmax, init=zero ...................................\n",
            "[CV] ....... activation=softmax, init=zero, score=0.679, total=   1.0s\n",
            "[CV] activation=relu, init=uniform ...................................\n",
            "[CV] ....... activation=relu, init=uniform, score=0.747, total=   1.0s\n",
            "[CV] activation=relu, init=uniform ...................................\n",
            "[CV] ....... activation=relu, init=uniform, score=0.570, total=   0.9s\n",
            "[CV] activation=relu, init=uniform ...................................\n",
            "[CV] ....... activation=relu, init=uniform, score=0.795, total=   1.4s\n",
            "[CV] activation=relu, init=uniform ...................................\n",
            "[CV] ....... activation=relu, init=uniform, score=0.833, total=   1.0s\n",
            "[CV] activation=relu, init=uniform ...................................\n",
            "[CV] ....... activation=relu, init=uniform, score=0.846, total=   1.0s\n",
            "[CV] activation=relu, init=normal ....................................\n",
            "[CV] ........ activation=relu, init=normal, score=0.772, total=   1.0s\n",
            "[CV] activation=relu, init=normal ....................................\n",
            "[CV] ........ activation=relu, init=normal, score=0.658, total=   1.0s\n",
            "[CV] activation=relu, init=normal ....................................\n",
            "[CV] ........ activation=relu, init=normal, score=0.833, total=   1.0s\n",
            "[CV] activation=relu, init=normal ....................................\n",
            "[CV] ........ activation=relu, init=normal, score=0.833, total=   1.0s\n",
            "[CV] activation=relu, init=normal ....................................\n",
            "[CV] ........ activation=relu, init=normal, score=0.821, total=   1.0s\n",
            "[CV] activation=relu, init=zero ......................................\n",
            "[CV] .......... activation=relu, init=zero, score=0.646, total=   1.0s\n",
            "[CV] activation=relu, init=zero ......................................\n",
            "[CV] .......... activation=relu, init=zero, score=0.570, total=   0.9s\n",
            "[CV] activation=relu, init=zero ......................................\n",
            "[CV] .......... activation=relu, init=zero, score=0.705, total=   1.0s\n",
            "[CV] activation=relu, init=zero ......................................\n",
            "[CV] .......... activation=relu, init=zero, score=0.744, total=   0.9s\n",
            "[CV] activation=relu, init=zero ......................................\n",
            "[CV] .......... activation=relu, init=zero, score=0.679, total=   1.0s\n",
            "[CV] activation=tanh, init=uniform ...................................\n",
            "[CV] ....... activation=tanh, init=uniform, score=0.747, total=   0.9s\n",
            "[CV] activation=tanh, init=uniform ...................................\n",
            "[CV] ....... activation=tanh, init=uniform, score=0.620, total=   0.9s\n",
            "[CV] activation=tanh, init=uniform ...................................\n",
            "[CV] ....... activation=tanh, init=uniform, score=0.782, total=   1.0s\n",
            "[CV] activation=tanh, init=uniform ...................................\n",
            "[CV] ....... activation=tanh, init=uniform, score=0.859, total=   1.2s\n",
            "[CV] activation=tanh, init=uniform ...................................\n",
            "[CV] ....... activation=tanh, init=uniform, score=0.821, total=   1.7s\n",
            "[CV] activation=tanh, init=normal ....................................\n",
            "[CV] ........ activation=tanh, init=normal, score=0.772, total=   2.1s\n",
            "[CV] activation=tanh, init=normal ....................................\n",
            "[CV] ........ activation=tanh, init=normal, score=0.620, total=   1.4s\n",
            "[CV] activation=tanh, init=normal ....................................\n",
            "[CV] ........ activation=tanh, init=normal, score=0.795, total=   1.4s\n",
            "[CV] activation=tanh, init=normal ....................................\n",
            "[CV] ........ activation=tanh, init=normal, score=0.846, total=   1.4s\n",
            "[CV] activation=tanh, init=normal ....................................\n",
            "[CV] ........ activation=tanh, init=normal, score=0.821, total=   1.1s\n",
            "[CV] activation=tanh, init=zero ......................................\n",
            "[CV] .......... activation=tanh, init=zero, score=0.646, total=   1.0s\n",
            "[CV] activation=tanh, init=zero ......................................\n",
            "[CV] .......... activation=tanh, init=zero, score=0.570, total=   1.0s\n",
            "[CV] activation=tanh, init=zero ......................................\n",
            "[CV] .......... activation=tanh, init=zero, score=0.705, total=   1.0s\n",
            "[CV] activation=tanh, init=zero ......................................\n",
            "[CV] .......... activation=tanh, init=zero, score=0.744, total=   1.0s\n",
            "[CV] activation=tanh, init=zero ......................................\n",
            "[CV] .......... activation=tanh, init=zero, score=0.679, total=   1.0s\n",
            "[CV] activation=linear, init=uniform .................................\n",
            "[CV] ..... activation=linear, init=uniform, score=0.835, total=   1.0s\n",
            "[CV] activation=linear, init=uniform .................................\n",
            "[CV] ..... activation=linear, init=uniform, score=0.633, total=   1.0s\n",
            "[CV] activation=linear, init=uniform .................................\n",
            "[CV] ..... activation=linear, init=uniform, score=0.821, total=   1.0s\n",
            "[CV] activation=linear, init=uniform .................................\n",
            "[CV] ..... activation=linear, init=uniform, score=0.846, total=   1.0s\n",
            "[CV] activation=linear, init=uniform .................................\n",
            "[CV] ..... activation=linear, init=uniform, score=0.821, total=   1.0s\n",
            "[CV] activation=linear, init=normal ..................................\n",
            "[CV] ...... activation=linear, init=normal, score=0.823, total=   1.0s\n",
            "[CV] activation=linear, init=normal ..................................\n",
            "[CV] ...... activation=linear, init=normal, score=0.608, total=   1.0s\n",
            "[CV] activation=linear, init=normal ..................................\n",
            "[CV] ...... activation=linear, init=normal, score=0.833, total=   0.9s\n",
            "[CV] activation=linear, init=normal ..................................\n",
            "[CV] ...... activation=linear, init=normal, score=0.833, total=   1.0s\n",
            "[CV] activation=linear, init=normal ..................................\n",
            "[CV] ...... activation=linear, init=normal, score=0.821, total=   1.5s\n",
            "[CV] activation=linear, init=zero ....................................\n",
            "[CV] ........ activation=linear, init=zero, score=0.646, total=   1.0s\n",
            "[CV] activation=linear, init=zero ....................................\n",
            "[CV] ........ activation=linear, init=zero, score=0.570, total=   1.0s\n",
            "[CV] activation=linear, init=zero ....................................\n",
            "[CV] ........ activation=linear, init=zero, score=0.705, total=   1.0s\n",
            "[CV] activation=linear, init=zero ....................................\n",
            "[CV] ........ activation=linear, init=zero, score=0.744, total=   1.0s\n",
            "[CV] activation=linear, init=zero ....................................\n",
            "[CV] ........ activation=linear, init=zero, score=0.679, total=   1.0s\n"
          ],
          "name": "stdout"
        },
        {
          "output_type": "stream",
          "text": [
            "[Parallel(n_jobs=1)]: Done  60 out of  60 | elapsed:  1.1min finished\n"
          ],
          "name": "stderr"
        },
        {
          "output_type": "stream",
          "text": [
            "Best: 0.7911067843437195, using {'activation': 'linear', 'init': 'uniform'}\n",
            "0.7631937623023987 (0.08404904789108054) with: {'activation': 'softmax', 'init': 'uniform'}\n",
            "0.7683544158935547 (0.09054655724624809) with: {'activation': 'softmax', 'init': 'normal'}\n",
            "0.6686789989471436 (0.05899773033245815) with: {'activation': 'softmax', 'init': 'zero'}\n",
            "0.7581629395484925 (0.10041631744917966) with: {'activation': 'relu', 'init': 'uniform'}\n",
            "0.7835118412971497 (0.06657109841663113) with: {'activation': 'relu', 'init': 'normal'}\n",
            "0.6686789989471436 (0.05899773033245815) with: {'activation': 'relu', 'init': 'zero'}\n",
            "0.7657254099845886 (0.08183222723896484) with: {'activation': 'tanh', 'init': 'uniform'}\n",
            "0.7707887053489685 (0.07924039790298476) with: {'activation': 'tanh', 'init': 'normal'}\n",
            "0.6686789989471436 (0.05899773033245815) with: {'activation': 'tanh', 'init': 'zero'}\n",
            "0.7911067843437195 (0.07968826468817176) with: {'activation': 'linear', 'init': 'uniform'}\n",
            "0.7835118293762207 (0.08811647171098208) with: {'activation': 'linear', 'init': 'normal'}\n",
            "0.6686789989471436 (0.05899773033245815) with: {'activation': 'linear', 'init': 'zero'}\n"
          ],
          "name": "stdout"
        }
      ]
    },
    {
      "cell_type": "code",
      "metadata": {
        "id": "xiy9eyIFXipP",
        "colab_type": "code",
        "colab": {}
      },
      "source": [
        "best_activation = grid_results.best_params_['activation'] #'linear' # 'relu'\n",
        "best_init =  grid_results.best_params_['init'] #'uniform' # 'normal'"
      ],
      "execution_count": 19,
      "outputs": []
    },
    {
      "cell_type": "code",
      "metadata": {
        "id": "5qbdwAyWXipR",
        "colab_type": "code",
        "colab": {
          "base_uri": "https://localhost:8080/",
          "height": 1000
        },
        "outputId": "3d83d34a-6f9c-44ad-b870-e5a983c2f256"
      },
      "source": [
        "\n",
        "# Do a grid search to find the optimal number of neurons in each hidden layer\n",
        "# import necessary packages\n",
        "\n",
        "# Define a random seed\n",
        "seed = 6\n",
        "np.random.seed(seed)\n",
        "\n",
        "# Start defining the model\n",
        "def create_model(neuron1, neuron2): #, neuron3\n",
        "    # create model\n",
        "    model = Sequential()\n",
        "    model.add(Dense(neuron1, input_dim = 8, kernel_initializer= best_init, activation= best_activation))\n",
        "    model.add(Dense(neuron2, input_dim = neuron1, kernel_initializer= best_init, activation= best_activation))\n",
        "    model.add(Dense(1, activation='sigmoid'))\n",
        "\n",
        "    # compile the model\n",
        "    adam = Adam(lr = best_learn_rate)\n",
        "    model.compile(loss = 'binary_crossentropy', optimizer = adam, metrics = ['accuracy'])\n",
        "    return model\n",
        "\n",
        "# create the model\n",
        "model = KerasClassifier(build_fn = create_model, epochs = best_epochs, batch_size = best_batch_size, verbose = 0)\n",
        "\n",
        "# define the grid search parameters\n",
        "neuron1 = [4, 8, 16, 32]\n",
        "neuron2 = [4, 8, 16, 32, 64]\n",
        "\n",
        "# make a dictionary of the grid search parameters\n",
        "param_grid = dict(neuron1 = neuron1, neuron2 = neuron2) #, neuron3 = neuron3\n",
        "\n",
        "# build and fit the GridSearchCV\n",
        "grid = GridSearchCV(estimator = model, param_grid = param_grid, cv = KFold(random_state=seed), refit = True, verbose = 10)\n",
        "grid_results = grid.fit(X_standardized, Y)\n",
        "\n",
        "# summarize the results\n",
        "print(\"Best: {0}, using {1}\".format(grid_results.best_score_, grid_results.best_params_))\n",
        "means = grid_results.cv_results_['mean_test_score']\n",
        "stds = grid_results.cv_results_['std_test_score']\n",
        "params = grid_results.cv_results_['params']\n",
        "for mean, stdev, param in zip(means, stds, params):\n",
        "    print('{0} ({1}) with: {2}'.format(mean, stdev, param))"
      ],
      "execution_count": 20,
      "outputs": [
        {
          "output_type": "stream",
          "text": [
            "Fitting 5 folds for each of 20 candidates, totalling 100 fits\n",
            "[CV] neuron1=4, neuron2=4 ............................................\n"
          ],
          "name": "stdout"
        },
        {
          "output_type": "stream",
          "text": [
            "/usr/local/lib/python3.6/dist-packages/sklearn/model_selection/_split.py:296: FutureWarning: Setting a random_state has no effect since shuffle is False. This will raise an error in 0.24. You should leave random_state to its default (None), or set shuffle=True.\n",
            "  FutureWarning\n",
            "[Parallel(n_jobs=1)]: Using backend SequentialBackend with 1 concurrent workers.\n"
          ],
          "name": "stderr"
        },
        {
          "output_type": "stream",
          "text": [
            "[CV] ................ neuron1=4, neuron2=4, score=0.835, total=   1.0s\n",
            "[CV] neuron1=4, neuron2=4 ............................................\n"
          ],
          "name": "stdout"
        },
        {
          "output_type": "stream",
          "text": [
            "[Parallel(n_jobs=1)]: Done   1 out of   1 | elapsed:    1.0s remaining:    0.0s\n"
          ],
          "name": "stderr"
        },
        {
          "output_type": "stream",
          "text": [
            "[CV] ................ neuron1=4, neuron2=4, score=0.608, total=   1.0s\n",
            "[CV] neuron1=4, neuron2=4 ............................................\n"
          ],
          "name": "stdout"
        },
        {
          "output_type": "stream",
          "text": [
            "[Parallel(n_jobs=1)]: Done   2 out of   2 | elapsed:    2.0s remaining:    0.0s\n"
          ],
          "name": "stderr"
        },
        {
          "output_type": "stream",
          "text": [
            "[CV] ................ neuron1=4, neuron2=4, score=0.821, total=   1.0s\n",
            "[CV] neuron1=4, neuron2=4 ............................................\n"
          ],
          "name": "stdout"
        },
        {
          "output_type": "stream",
          "text": [
            "[Parallel(n_jobs=1)]: Done   3 out of   3 | elapsed:    3.0s remaining:    0.0s\n"
          ],
          "name": "stderr"
        },
        {
          "output_type": "stream",
          "text": [
            "[CV] ................ neuron1=4, neuron2=4, score=0.846, total=   1.0s\n",
            "[CV] neuron1=4, neuron2=4 ............................................\n"
          ],
          "name": "stdout"
        },
        {
          "output_type": "stream",
          "text": [
            "[Parallel(n_jobs=1)]: Done   4 out of   4 | elapsed:    4.0s remaining:    0.0s\n"
          ],
          "name": "stderr"
        },
        {
          "output_type": "stream",
          "text": [
            "[CV] ................ neuron1=4, neuron2=4, score=0.808, total=   0.9s\n",
            "[CV] neuron1=4, neuron2=8 ............................................\n"
          ],
          "name": "stdout"
        },
        {
          "output_type": "stream",
          "text": [
            "[Parallel(n_jobs=1)]: Done   5 out of   5 | elapsed:    4.9s remaining:    0.0s\n"
          ],
          "name": "stderr"
        },
        {
          "output_type": "stream",
          "text": [
            "[CV] ................ neuron1=4, neuron2=8, score=0.835, total=   1.0s\n",
            "[CV] neuron1=4, neuron2=8 ............................................\n"
          ],
          "name": "stdout"
        },
        {
          "output_type": "stream",
          "text": [
            "[Parallel(n_jobs=1)]: Done   6 out of   6 | elapsed:    5.9s remaining:    0.0s\n"
          ],
          "name": "stderr"
        },
        {
          "output_type": "stream",
          "text": [
            "[CV] ................ neuron1=4, neuron2=8, score=0.633, total=   1.0s\n",
            "[CV] neuron1=4, neuron2=8 ............................................\n"
          ],
          "name": "stdout"
        },
        {
          "output_type": "stream",
          "text": [
            "[Parallel(n_jobs=1)]: Done   7 out of   7 | elapsed:    6.9s remaining:    0.0s\n"
          ],
          "name": "stderr"
        },
        {
          "output_type": "stream",
          "text": [
            "[CV] ................ neuron1=4, neuron2=8, score=0.821, total=   1.0s\n",
            "[CV] neuron1=4, neuron2=8 ............................................\n"
          ],
          "name": "stdout"
        },
        {
          "output_type": "stream",
          "text": [
            "[Parallel(n_jobs=1)]: Done   8 out of   8 | elapsed:    7.9s remaining:    0.0s\n"
          ],
          "name": "stderr"
        },
        {
          "output_type": "stream",
          "text": [
            "[CV] ................ neuron1=4, neuron2=8, score=0.846, total=   1.0s\n",
            "[CV] neuron1=4, neuron2=8 ............................................\n"
          ],
          "name": "stdout"
        },
        {
          "output_type": "stream",
          "text": [
            "[Parallel(n_jobs=1)]: Done   9 out of   9 | elapsed:    8.9s remaining:    0.0s\n"
          ],
          "name": "stderr"
        },
        {
          "output_type": "stream",
          "text": [
            "[CV] ................ neuron1=4, neuron2=8, score=0.808, total=   1.0s\n",
            "[CV] neuron1=4, neuron2=16 ...........................................\n",
            "[CV] ............... neuron1=4, neuron2=16, score=0.835, total=   1.0s\n",
            "[CV] neuron1=4, neuron2=16 ...........................................\n",
            "[CV] ............... neuron1=4, neuron2=16, score=0.633, total=   1.0s\n",
            "[CV] neuron1=4, neuron2=16 ...........................................\n",
            "[CV] ............... neuron1=4, neuron2=16, score=0.821, total=   1.0s\n",
            "[CV] neuron1=4, neuron2=16 ...........................................\n",
            "[CV] ............... neuron1=4, neuron2=16, score=0.846, total=   1.6s\n",
            "[CV] neuron1=4, neuron2=16 ...........................................\n",
            "[CV] ............... neuron1=4, neuron2=16, score=0.821, total=   1.0s\n",
            "[CV] neuron1=4, neuron2=32 ...........................................\n",
            "[CV] ............... neuron1=4, neuron2=32, score=0.835, total=   1.0s\n",
            "[CV] neuron1=4, neuron2=32 ...........................................\n",
            "[CV] ............... neuron1=4, neuron2=32, score=0.620, total=   1.0s\n",
            "[CV] neuron1=4, neuron2=32 ...........................................\n",
            "[CV] ............... neuron1=4, neuron2=32, score=0.821, total=   1.0s\n",
            "[CV] neuron1=4, neuron2=32 ...........................................\n",
            "[CV] ............... neuron1=4, neuron2=32, score=0.859, total=   1.0s\n",
            "[CV] neuron1=4, neuron2=32 ...........................................\n",
            "[CV] ............... neuron1=4, neuron2=32, score=0.821, total=   1.0s\n",
            "[CV] neuron1=4, neuron2=64 ...........................................\n",
            "[CV] ............... neuron1=4, neuron2=64, score=0.835, total=   1.0s\n",
            "[CV] neuron1=4, neuron2=64 ...........................................\n",
            "[CV] ............... neuron1=4, neuron2=64, score=0.608, total=   1.0s\n",
            "[CV] neuron1=4, neuron2=64 ...........................................\n",
            "[CV] ............... neuron1=4, neuron2=64, score=0.821, total=   1.0s\n",
            "[CV] neuron1=4, neuron2=64 ...........................................\n",
            "[CV] ............... neuron1=4, neuron2=64, score=0.833, total=   1.0s\n",
            "[CV] neuron1=4, neuron2=64 ...........................................\n",
            "[CV] ............... neuron1=4, neuron2=64, score=0.808, total=   1.0s\n",
            "[CV] neuron1=8, neuron2=4 ............................................\n",
            "[CV] ................ neuron1=8, neuron2=4, score=0.835, total=   1.0s\n",
            "[CV] neuron1=8, neuron2=4 ............................................\n",
            "[CV] ................ neuron1=8, neuron2=4, score=0.633, total=   1.0s\n",
            "[CV] neuron1=8, neuron2=4 ............................................\n",
            "[CV] ................ neuron1=8, neuron2=4, score=0.833, total=   1.0s\n",
            "[CV] neuron1=8, neuron2=4 ............................................\n",
            "[CV] ................ neuron1=8, neuron2=4, score=0.833, total=   1.0s\n",
            "[CV] neuron1=8, neuron2=4 ............................................\n",
            "[CV] ................ neuron1=8, neuron2=4, score=0.821, total=   1.0s\n",
            "[CV] neuron1=8, neuron2=8 ............................................\n",
            "[CV] ................ neuron1=8, neuron2=8, score=0.835, total=   1.0s\n",
            "[CV] neuron1=8, neuron2=8 ............................................\n",
            "[CV] ................ neuron1=8, neuron2=8, score=0.620, total=   1.1s\n",
            "[CV] neuron1=8, neuron2=8 ............................................\n",
            "[CV] ................ neuron1=8, neuron2=8, score=0.821, total=   1.5s\n",
            "[CV] neuron1=8, neuron2=8 ............................................\n",
            "[CV] ................ neuron1=8, neuron2=8, score=0.846, total=   1.0s\n",
            "[CV] neuron1=8, neuron2=8 ............................................\n",
            "[CV] ................ neuron1=8, neuron2=8, score=0.833, total=   1.0s\n",
            "[CV] neuron1=8, neuron2=16 ...........................................\n",
            "[CV] ............... neuron1=8, neuron2=16, score=0.835, total=   1.0s\n",
            "[CV] neuron1=8, neuron2=16 ...........................................\n",
            "[CV] ............... neuron1=8, neuron2=16, score=0.633, total=   1.0s\n",
            "[CV] neuron1=8, neuron2=16 ...........................................\n",
            "[CV] ............... neuron1=8, neuron2=16, score=0.821, total=   1.0s\n",
            "[CV] neuron1=8, neuron2=16 ...........................................\n",
            "[CV] ............... neuron1=8, neuron2=16, score=0.846, total=   1.0s\n",
            "[CV] neuron1=8, neuron2=16 ...........................................\n",
            "[CV] ............... neuron1=8, neuron2=16, score=0.808, total=   1.0s\n",
            "[CV] neuron1=8, neuron2=32 ...........................................\n",
            "[CV] ............... neuron1=8, neuron2=32, score=0.835, total=   1.0s\n",
            "[CV] neuron1=8, neuron2=32 ...........................................\n",
            "[CV] ............... neuron1=8, neuron2=32, score=0.608, total=   1.0s\n",
            "[CV] neuron1=8, neuron2=32 ...........................................\n",
            "[CV] ............... neuron1=8, neuron2=32, score=0.833, total=   1.0s\n",
            "[CV] neuron1=8, neuron2=32 ...........................................\n",
            "[CV] ............... neuron1=8, neuron2=32, score=0.846, total=   1.0s\n",
            "[CV] neuron1=8, neuron2=32 ...........................................\n",
            "[CV] ............... neuron1=8, neuron2=32, score=0.833, total=   1.0s\n",
            "[CV] neuron1=8, neuron2=64 ...........................................\n",
            "[CV] ............... neuron1=8, neuron2=64, score=0.835, total=   1.0s\n",
            "[CV] neuron1=8, neuron2=64 ...........................................\n",
            "[CV] ............... neuron1=8, neuron2=64, score=0.633, total=   1.0s\n",
            "[CV] neuron1=8, neuron2=64 ...........................................\n",
            "[CV] ............... neuron1=8, neuron2=64, score=0.821, total=   1.0s\n",
            "[CV] neuron1=8, neuron2=64 ...........................................\n",
            "[CV] ............... neuron1=8, neuron2=64, score=0.833, total=   1.0s\n",
            "[CV] neuron1=8, neuron2=64 ...........................................\n",
            "[CV] ............... neuron1=8, neuron2=64, score=0.821, total=   1.0s\n",
            "[CV] neuron1=16, neuron2=4 ...........................................\n",
            "[CV] ............... neuron1=16, neuron2=4, score=0.823, total=   1.0s\n",
            "[CV] neuron1=16, neuron2=4 ...........................................\n",
            "[CV] ............... neuron1=16, neuron2=4, score=0.608, total=   1.6s\n",
            "[CV] neuron1=16, neuron2=4 ...........................................\n",
            "[CV] ............... neuron1=16, neuron2=4, score=0.833, total=   1.0s\n",
            "[CV] neuron1=16, neuron2=4 ...........................................\n",
            "[CV] ............... neuron1=16, neuron2=4, score=0.833, total=   1.0s\n",
            "[CV] neuron1=16, neuron2=4 ...........................................\n",
            "[CV] ............... neuron1=16, neuron2=4, score=0.821, total=   1.0s\n",
            "[CV] neuron1=16, neuron2=8 ...........................................\n",
            "[CV] ............... neuron1=16, neuron2=8, score=0.835, total=   1.0s\n",
            "[CV] neuron1=16, neuron2=8 ...........................................\n",
            "[CV] ............... neuron1=16, neuron2=8, score=0.620, total=   1.0s\n",
            "[CV] neuron1=16, neuron2=8 ...........................................\n",
            "[CV] ............... neuron1=16, neuron2=8, score=0.821, total=   1.0s\n",
            "[CV] neuron1=16, neuron2=8 ...........................................\n",
            "[CV] ............... neuron1=16, neuron2=8, score=0.833, total=   1.0s\n",
            "[CV] neuron1=16, neuron2=8 ...........................................\n",
            "[CV] ............... neuron1=16, neuron2=8, score=0.821, total=   1.0s\n",
            "[CV] neuron1=16, neuron2=16 ..........................................\n",
            "[CV] .............. neuron1=16, neuron2=16, score=0.835, total=   1.0s\n",
            "[CV] neuron1=16, neuron2=16 ..........................................\n",
            "[CV] .............. neuron1=16, neuron2=16, score=0.633, total=   1.0s\n",
            "[CV] neuron1=16, neuron2=16 ..........................................\n",
            "[CV] .............. neuron1=16, neuron2=16, score=0.833, total=   1.1s\n",
            "[CV] neuron1=16, neuron2=16 ..........................................\n",
            "[CV] .............. neuron1=16, neuron2=16, score=0.833, total=   1.0s\n",
            "[CV] neuron1=16, neuron2=16 ..........................................\n",
            "[CV] .............. neuron1=16, neuron2=16, score=0.833, total=   1.0s\n",
            "[CV] neuron1=16, neuron2=32 ..........................................\n",
            "[CV] .............. neuron1=16, neuron2=32, score=0.835, total=   1.1s\n",
            "[CV] neuron1=16, neuron2=32 ..........................................\n",
            "[CV] .............. neuron1=16, neuron2=32, score=0.633, total=   1.0s\n",
            "[CV] neuron1=16, neuron2=32 ..........................................\n",
            "[CV] .............. neuron1=16, neuron2=32, score=0.821, total=   1.0s\n",
            "[CV] neuron1=16, neuron2=32 ..........................................\n",
            "[CV] .............. neuron1=16, neuron2=32, score=0.846, total=   1.0s\n",
            "[CV] neuron1=16, neuron2=32 ..........................................\n",
            "[CV] .............. neuron1=16, neuron2=32, score=0.821, total=   1.0s\n",
            "[CV] neuron1=16, neuron2=64 ..........................................\n",
            "[CV] .............. neuron1=16, neuron2=64, score=0.835, total=   1.0s\n",
            "[CV] neuron1=16, neuron2=64 ..........................................\n",
            "[CV] .............. neuron1=16, neuron2=64, score=0.620, total=   1.7s\n",
            "[CV] neuron1=16, neuron2=64 ..........................................\n",
            "[CV] .............. neuron1=16, neuron2=64, score=0.821, total=   1.0s\n",
            "[CV] neuron1=16, neuron2=64 ..........................................\n",
            "[CV] .............. neuron1=16, neuron2=64, score=0.846, total=   1.0s\n",
            "[CV] neuron1=16, neuron2=64 ..........................................\n",
            "[CV] .............. neuron1=16, neuron2=64, score=0.808, total=   1.0s\n",
            "[CV] neuron1=32, neuron2=4 ...........................................\n",
            "[CV] ............... neuron1=32, neuron2=4, score=0.835, total=   1.1s\n",
            "[CV] neuron1=32, neuron2=4 ...........................................\n",
            "[CV] ............... neuron1=32, neuron2=4, score=0.620, total=   1.0s\n",
            "[CV] neuron1=32, neuron2=4 ...........................................\n",
            "[CV] ............... neuron1=32, neuron2=4, score=0.833, total=   1.1s\n",
            "[CV] neuron1=32, neuron2=4 ...........................................\n",
            "[CV] ............... neuron1=32, neuron2=4, score=0.859, total=   1.1s\n",
            "[CV] neuron1=32, neuron2=4 ...........................................\n",
            "[CV] ............... neuron1=32, neuron2=4, score=0.833, total=   1.1s\n",
            "[CV] neuron1=32, neuron2=8 ...........................................\n",
            "[CV] ............... neuron1=32, neuron2=8, score=0.835, total=   1.0s\n",
            "[CV] neuron1=32, neuron2=8 ...........................................\n",
            "[CV] ............... neuron1=32, neuron2=8, score=0.620, total=   1.0s\n",
            "[CV] neuron1=32, neuron2=8 ...........................................\n",
            "[CV] ............... neuron1=32, neuron2=8, score=0.821, total=   1.0s\n",
            "[CV] neuron1=32, neuron2=8 ...........................................\n",
            "[CV] ............... neuron1=32, neuron2=8, score=0.833, total=   1.0s\n",
            "[CV] neuron1=32, neuron2=8 ...........................................\n",
            "[CV] ............... neuron1=32, neuron2=8, score=0.833, total=   1.0s\n",
            "[CV] neuron1=32, neuron2=16 ..........................................\n",
            "[CV] .............. neuron1=32, neuron2=16, score=0.835, total=   1.1s\n",
            "[CV] neuron1=32, neuron2=16 ..........................................\n",
            "[CV] .............. neuron1=32, neuron2=16, score=0.633, total=   1.1s\n",
            "[CV] neuron1=32, neuron2=16 ..........................................\n",
            "[CV] .............. neuron1=32, neuron2=16, score=0.821, total=   1.0s\n",
            "[CV] neuron1=32, neuron2=16 ..........................................\n",
            "[CV] .............. neuron1=32, neuron2=16, score=0.859, total=   1.0s\n",
            "[CV] neuron1=32, neuron2=16 ..........................................\n",
            "[CV] .............. neuron1=32, neuron2=16, score=0.833, total=   1.0s\n",
            "[CV] neuron1=32, neuron2=32 ..........................................\n",
            "[CV] .............. neuron1=32, neuron2=32, score=0.835, total=   1.0s\n",
            "[CV] neuron1=32, neuron2=32 ..........................................\n",
            "[CV] .............. neuron1=32, neuron2=32, score=0.608, total=   1.7s\n",
            "[CV] neuron1=32, neuron2=32 ..........................................\n",
            "[CV] .............. neuron1=32, neuron2=32, score=0.821, total=   1.1s\n",
            "[CV] neuron1=32, neuron2=32 ..........................................\n",
            "[CV] .............. neuron1=32, neuron2=32, score=0.859, total=   1.1s\n",
            "[CV] neuron1=32, neuron2=32 ..........................................\n",
            "[CV] .............. neuron1=32, neuron2=32, score=0.821, total=   1.1s\n",
            "[CV] neuron1=32, neuron2=64 ..........................................\n",
            "[CV] .............. neuron1=32, neuron2=64, score=0.835, total=   1.1s\n",
            "[CV] neuron1=32, neuron2=64 ..........................................\n",
            "[CV] .............. neuron1=32, neuron2=64, score=0.633, total=   1.0s\n",
            "[CV] neuron1=32, neuron2=64 ..........................................\n",
            "[CV] .............. neuron1=32, neuron2=64, score=0.821, total=   1.0s\n",
            "[CV] neuron1=32, neuron2=64 ..........................................\n",
            "[CV] .............. neuron1=32, neuron2=64, score=0.846, total=   1.1s\n",
            "[CV] neuron1=32, neuron2=64 ..........................................\n",
            "[CV] .............. neuron1=32, neuron2=64, score=0.833, total=   1.0s\n"
          ],
          "name": "stdout"
        },
        {
          "output_type": "stream",
          "text": [
            "[Parallel(n_jobs=1)]: Done 100 out of 100 | elapsed:  1.7min finished\n"
          ],
          "name": "stderr"
        },
        {
          "output_type": "stream",
          "text": [
            "Best: 0.7962674260139465, using {'neuron1': 32, 'neuron2': 4}\n",
            "0.783479380607605 (0.08890601661969585) with: {'neuron1': 4, 'neuron2': 4}\n",
            "0.7885426759719849 (0.07890321637345102) with: {'neuron1': 4, 'neuron2': 8}\n",
            "0.7911067843437195 (0.07968826468817176) with: {'neuron1': 4, 'neuron2': 16}\n",
            "0.7911392331123352 (0.08659341582599898) with: {'neuron1': 4, 'neuron2': 32}\n",
            "0.7809152722358703 (0.08723055718910631) with: {'neuron1': 4, 'neuron2': 64}\n",
            "0.7911067724227905 (0.0792746637362651) with: {'neuron1': 8, 'neuron2': 4}\n",
            "0.7911392331123352 (0.08583080767748588) with: {'neuron1': 8, 'neuron2': 8}\n",
            "0.7885426759719849 (0.07890321637345102) with: {'neuron1': 8, 'neuron2': 16}\n",
            "0.7911716818809509 (0.09191151102092288) with: {'neuron1': 8, 'neuron2': 32}\n",
            "0.7885426759719849 (0.07806551623412974) with: {'neuron1': 8, 'neuron2': 64}\n",
            "0.7835118293762207 (0.08811647171098208) with: {'neuron1': 16, 'neuron2': 4}\n",
            "0.786011028289795 (0.08311359084714863) with: {'neuron1': 16, 'neuron2': 8}\n",
            "0.7936708688735962 (0.08038389524573043) with: {'neuron1': 16, 'neuron2': 16}\n",
            "0.7911067843437195 (0.07968826468817176) with: {'neuron1': 16, 'neuron2': 32}\n",
            "0.786011028289795 (0.08390090412314806) with: {'neuron1': 16, 'neuron2': 64}\n",
            "0.7962674260139465 (0.08853888503137032) with: {'neuron1': 32, 'neuron2': 4}\n",
            "0.7885751247406005 (0.08432733392428071) with: {'neuron1': 32, 'neuron2': 8}\n",
            "0.7962349772453308 (0.08259999365696422) with: {'neuron1': 32, 'neuron2': 16}\n",
            "0.7886075854301453 (0.09159314034697078) with: {'neuron1': 32, 'neuron2': 32}\n",
            "0.7936708807945252 (0.08079181748331918) with: {'neuron1': 32, 'neuron2': 64}\n"
          ],
          "name": "stdout"
        }
      ]
    },
    {
      "cell_type": "code",
      "metadata": {
        "id": "j9AXHAQ-XipT",
        "colab_type": "code",
        "colab": {}
      },
      "source": [
        "best_neuron1 = grid_results.best_params_['neuron1'] # 32 # 16\n",
        "best_neuron2 = grid_results.best_params_['neuron2'] # 4 # 16\n",
        "#best_neuron3 = 8"
      ],
      "execution_count": 21,
      "outputs": []
    },
    {
      "cell_type": "code",
      "metadata": {
        "id": "WEu-pD1sXipV",
        "colab_type": "code",
        "colab": {}
      },
      "source": [
        "from sklearn.model_selection import train_test_split\n",
        "#best model\n",
        "model = Sequential()\n",
        "model.add(Dense(best_neuron1, input_dim = 8, kernel_initializer= best_init, activation= best_activation))\n",
        "model.add(Dense(best_neuron2, input_dim = best_neuron1, kernel_initializer= best_init, activation= best_activation))\n",
        "#model.add(Dense(best_neuron3, input_dim = best_neuron2, kernel_initializer= best_init, activation= best_activation))\n",
        "model.add(Dense(1, activation='sigmoid'))"
      ],
      "execution_count": 22,
      "outputs": []
    },
    {
      "cell_type": "code",
      "metadata": {
        "id": "9ylffSqMXipW",
        "colab_type": "code",
        "colab": {
          "base_uri": "https://localhost:8080/",
          "height": 1000
        },
        "outputId": "28ff5685-bafc-4f78-db83-af7953d55807"
      },
      "source": [
        "# compile the model\n",
        "adam = Adam(lr = best_learn_rate)\n",
        "model.compile(loss = 'binary_crossentropy', optimizer = adam, metrics = ['accuracy'])\n",
        "ckpt_model = 'pima-weights_best_t.hdf5'\n",
        "checkpoint = ModelCheckpoint(ckpt_model, \n",
        "                            monitor='val_acc', \n",
        "                            verbose=1,\n",
        "                            save_best_only=True,\n",
        "                            mode='max')\n",
        "callbacks_list = [checkpoint]\n",
        "\n",
        "X_train, X_test, y_train, y_test = train_test_split(X, Y, test_size=0.20, random_state=0)\n",
        "\n",
        "print(X_train.shape)\n",
        "print(X_test.shape)\n",
        "\n",
        "history = model.fit(X_train,\n",
        "                    y_train,\n",
        "                    validation_data=(X_test, y_test),\n",
        "                    nb_epoch=best_epochs,\n",
        "                    batch_size=best_batch_size,\n",
        "                    callbacks=callbacks_list,\n",
        "                    verbose=1)\n",
        "#model.load_weights(\"pima-weights_best_t.hdf5\")"
      ],
      "execution_count": 23,
      "outputs": [
        {
          "output_type": "stream",
          "text": [
            "(313, 8)\n",
            "(79, 8)\n"
          ],
          "name": "stdout"
        },
        {
          "output_type": "stream",
          "text": [
            "/usr/local/lib/python3.6/dist-packages/ipykernel_launcher.py:23: UserWarning: The `nb_epoch` argument in `fit` has been renamed `epochs`.\n"
          ],
          "name": "stderr"
        },
        {
          "output_type": "stream",
          "text": [
            "Train on 313 samples, validate on 79 samples\n",
            "Epoch 1/100\n",
            "313/313 [==============================] - 0s 379us/step - loss: 1.3697 - accuracy: 0.5048 - val_loss: 0.8292 - val_accuracy: 0.6835\n",
            "Epoch 2/100\n",
            "313/313 [==============================] - 0s 24us/step - loss: 0.9177 - accuracy: 0.6677 - val_loss: 0.8463 - val_accuracy: 0.3165\n",
            "Epoch 3/100\n",
            "313/313 [==============================] - 0s 28us/step - loss: 0.9450 - accuracy: 0.3514 - val_loss: 0.6376 - val_accuracy: 0.6835\n",
            "Epoch 4/100\n",
            "313/313 [==============================] - 0s 28us/step - loss: 0.7667 - accuracy: 0.6645 - val_loss: 0.7244 - val_accuracy: 0.6835\n",
            "Epoch 5/100\n",
            "313/313 [==============================] - 0s 29us/step - loss: 0.7005 - accuracy: 0.6773 - val_loss: 0.7085 - val_accuracy: 0.4810\n",
            "Epoch 6/100\n",
            "313/313 [==============================] - 0s 39us/step - loss: 0.7082 - accuracy: 0.5080 - val_loss: 0.6105 - val_accuracy: 0.7215\n",
            "Epoch 7/100\n",
            "313/313 [==============================] - 0s 33us/step - loss: 0.6330 - accuracy: 0.6709 - val_loss: 0.6401 - val_accuracy: 0.6835\n",
            "Epoch 8/100\n",
            "313/313 [==============================] - 0s 29us/step - loss: 0.6707 - accuracy: 0.6709 - val_loss: 0.5975 - val_accuracy: 0.7089\n",
            "Epoch 9/100\n",
            "313/313 [==============================] - 0s 39us/step - loss: 0.6426 - accuracy: 0.6198 - val_loss: 0.6544 - val_accuracy: 0.6709\n",
            "Epoch 10/100\n",
            "313/313 [==============================] - 0s 28us/step - loss: 0.6576 - accuracy: 0.6773 - val_loss: 0.5998 - val_accuracy: 0.7089\n",
            "Epoch 11/100\n",
            "313/313 [==============================] - 0s 27us/step - loss: 0.6147 - accuracy: 0.6709 - val_loss: 0.6176 - val_accuracy: 0.6835\n",
            "Epoch 12/100\n",
            "313/313 [==============================] - 0s 26us/step - loss: 0.6336 - accuracy: 0.6709 - val_loss: 0.5994 - val_accuracy: 0.6962\n",
            "Epoch 13/100\n",
            "313/313 [==============================] - 0s 28us/step - loss: 0.6149 - accuracy: 0.6965 - val_loss: 0.5993 - val_accuracy: 0.7468\n",
            "Epoch 14/100\n",
            "313/313 [==============================] - 0s 30us/step - loss: 0.6123 - accuracy: 0.7029 - val_loss: 0.5867 - val_accuracy: 0.7215\n",
            "Epoch 15/100\n",
            "313/313 [==============================] - 0s 26us/step - loss: 0.5984 - accuracy: 0.6997 - val_loss: 0.5824 - val_accuracy: 0.6962\n",
            "Epoch 16/100\n",
            "313/313 [==============================] - 0s 27us/step - loss: 0.5995 - accuracy: 0.6677 - val_loss: 0.5746 - val_accuracy: 0.7215\n",
            "Epoch 17/100\n",
            "313/313 [==============================] - 0s 31us/step - loss: 0.5899 - accuracy: 0.6997 - val_loss: 0.5692 - val_accuracy: 0.7215\n",
            "Epoch 18/100\n",
            "313/313 [==============================] - 0s 29us/step - loss: 0.5850 - accuracy: 0.7093 - val_loss: 0.5656 - val_accuracy: 0.7215\n",
            "Epoch 19/100\n",
            "313/313 [==============================] - 0s 28us/step - loss: 0.5788 - accuracy: 0.7125 - val_loss: 0.5617 - val_accuracy: 0.7089\n",
            "Epoch 20/100\n",
            "128/313 [===========>..................] - ETA: 0s - loss: 0.5725 - accuracy: 0.7578"
          ],
          "name": "stdout"
        },
        {
          "output_type": "stream",
          "text": [
            "/usr/local/lib/python3.6/dist-packages/keras/callbacks/callbacks.py:707: RuntimeWarning: Can save best model only with val_acc available, skipping.\n",
            "  'skipping.' % (self.monitor), RuntimeWarning)\n"
          ],
          "name": "stderr"
        },
        {
          "output_type": "stream",
          "text": [
            "313/313 [==============================] - 0s 32us/step - loss: 0.5706 - accuracy: 0.7157 - val_loss: 0.5602 - val_accuracy: 0.7215\n",
            "Epoch 21/100\n",
            "313/313 [==============================] - 0s 30us/step - loss: 0.5687 - accuracy: 0.7252 - val_loss: 0.5603 - val_accuracy: 0.7215\n",
            "Epoch 22/100\n",
            "313/313 [==============================] - 0s 23us/step - loss: 0.5730 - accuracy: 0.7061 - val_loss: 0.5610 - val_accuracy: 0.7215\n",
            "Epoch 23/100\n",
            "313/313 [==============================] - 0s 26us/step - loss: 0.5682 - accuracy: 0.7061 - val_loss: 0.5504 - val_accuracy: 0.7215\n",
            "Epoch 24/100\n",
            "313/313 [==============================] - 0s 27us/step - loss: 0.5677 - accuracy: 0.7188 - val_loss: 0.5472 - val_accuracy: 0.7342\n",
            "Epoch 25/100\n",
            "313/313 [==============================] - 0s 25us/step - loss: 0.5682 - accuracy: 0.7093 - val_loss: 0.5440 - val_accuracy: 0.7342\n",
            "Epoch 26/100\n",
            "313/313 [==============================] - 0s 25us/step - loss: 0.5691 - accuracy: 0.7061 - val_loss: 0.5453 - val_accuracy: 0.7215\n",
            "Epoch 27/100\n",
            "313/313 [==============================] - 0s 30us/step - loss: 0.5766 - accuracy: 0.7093 - val_loss: 0.5470 - val_accuracy: 0.7342\n",
            "Epoch 28/100\n",
            "313/313 [==============================] - 0s 32us/step - loss: 0.5930 - accuracy: 0.6965 - val_loss: 0.5435 - val_accuracy: 0.7215\n",
            "Epoch 29/100\n",
            "313/313 [==============================] - 0s 32us/step - loss: 0.5620 - accuracy: 0.7157 - val_loss: 0.5531 - val_accuracy: 0.7215\n",
            "Epoch 30/100\n",
            "313/313 [==============================] - 0s 33us/step - loss: 0.5639 - accuracy: 0.7061 - val_loss: 0.5430 - val_accuracy: 0.7468\n",
            "Epoch 31/100\n",
            "313/313 [==============================] - 0s 30us/step - loss: 0.5647 - accuracy: 0.7061 - val_loss: 0.5438 - val_accuracy: 0.7342\n",
            "Epoch 32/100\n",
            "313/313 [==============================] - 0s 32us/step - loss: 0.5577 - accuracy: 0.7157 - val_loss: 0.5418 - val_accuracy: 0.7215\n",
            "Epoch 33/100\n",
            "313/313 [==============================] - 0s 30us/step - loss: 0.5579 - accuracy: 0.7220 - val_loss: 0.5438 - val_accuracy: 0.7215\n",
            "Epoch 34/100\n",
            "313/313 [==============================] - 0s 34us/step - loss: 0.5615 - accuracy: 0.7252 - val_loss: 0.5457 - val_accuracy: 0.7215\n",
            "Epoch 35/100\n",
            "313/313 [==============================] - 0s 26us/step - loss: 0.5690 - accuracy: 0.7029 - val_loss: 0.5419 - val_accuracy: 0.7215\n",
            "Epoch 36/100\n",
            "313/313 [==============================] - 0s 26us/step - loss: 0.5669 - accuracy: 0.7061 - val_loss: 0.5387 - val_accuracy: 0.7215\n",
            "Epoch 37/100\n",
            "313/313 [==============================] - 0s 28us/step - loss: 0.5619 - accuracy: 0.7348 - val_loss: 0.5447 - val_accuracy: 0.7215\n",
            "Epoch 38/100\n",
            "313/313 [==============================] - 0s 29us/step - loss: 0.5621 - accuracy: 0.7220 - val_loss: 0.5428 - val_accuracy: 0.7342\n",
            "Epoch 39/100\n",
            "313/313 [==============================] - 0s 30us/step - loss: 0.5525 - accuracy: 0.7412 - val_loss: 0.5600 - val_accuracy: 0.7342\n",
            "Epoch 40/100\n",
            "313/313 [==============================] - 0s 30us/step - loss: 0.5634 - accuracy: 0.7093 - val_loss: 0.5421 - val_accuracy: 0.7342\n",
            "Epoch 41/100\n",
            "313/313 [==============================] - 0s 27us/step - loss: 0.5602 - accuracy: 0.7157 - val_loss: 0.5373 - val_accuracy: 0.7215\n",
            "Epoch 42/100\n",
            "313/313 [==============================] - 0s 25us/step - loss: 0.5668 - accuracy: 0.7188 - val_loss: 0.5460 - val_accuracy: 0.7342\n",
            "Epoch 43/100\n",
            "313/313 [==============================] - 0s 27us/step - loss: 0.5693 - accuracy: 0.7188 - val_loss: 0.5524 - val_accuracy: 0.7342\n",
            "Epoch 44/100\n",
            "313/313 [==============================] - 0s 39us/step - loss: 0.5545 - accuracy: 0.7348 - val_loss: 0.5679 - val_accuracy: 0.7089\n",
            "Epoch 45/100\n",
            "313/313 [==============================] - 0s 30us/step - loss: 0.5703 - accuracy: 0.6933 - val_loss: 0.5378 - val_accuracy: 0.7215\n",
            "Epoch 46/100\n",
            "313/313 [==============================] - 0s 26us/step - loss: 0.5542 - accuracy: 0.7029 - val_loss: 0.5373 - val_accuracy: 0.7342\n",
            "Epoch 47/100\n",
            "313/313 [==============================] - 0s 32us/step - loss: 0.5537 - accuracy: 0.7125 - val_loss: 0.5415 - val_accuracy: 0.7595\n",
            "Epoch 48/100\n",
            "313/313 [==============================] - 0s 28us/step - loss: 0.5602 - accuracy: 0.7252 - val_loss: 0.5459 - val_accuracy: 0.7342\n",
            "Epoch 49/100\n",
            "313/313 [==============================] - 0s 29us/step - loss: 0.5489 - accuracy: 0.7252 - val_loss: 0.5418 - val_accuracy: 0.7215\n",
            "Epoch 50/100\n",
            "313/313 [==============================] - 0s 34us/step - loss: 0.5604 - accuracy: 0.7093 - val_loss: 0.5364 - val_accuracy: 0.7468\n",
            "Epoch 51/100\n",
            "313/313 [==============================] - 0s 28us/step - loss: 0.5581 - accuracy: 0.7188 - val_loss: 0.5431 - val_accuracy: 0.7342\n",
            "Epoch 52/100\n",
            "313/313 [==============================] - 0s 36us/step - loss: 0.5566 - accuracy: 0.7316 - val_loss: 0.5431 - val_accuracy: 0.7595\n",
            "Epoch 53/100\n",
            "313/313 [==============================] - 0s 30us/step - loss: 0.5499 - accuracy: 0.7316 - val_loss: 0.5462 - val_accuracy: 0.7215\n",
            "Epoch 54/100\n",
            "313/313 [==============================] - 0s 26us/step - loss: 0.5503 - accuracy: 0.7188 - val_loss: 0.5363 - val_accuracy: 0.7342\n",
            "Epoch 55/100\n",
            "313/313 [==============================] - 0s 27us/step - loss: 0.5453 - accuracy: 0.7188 - val_loss: 0.5328 - val_accuracy: 0.7089\n",
            "Epoch 56/100\n",
            "313/313 [==============================] - 0s 27us/step - loss: 0.5483 - accuracy: 0.7157 - val_loss: 0.5365 - val_accuracy: 0.7468\n",
            "Epoch 57/100\n",
            "313/313 [==============================] - 0s 28us/step - loss: 0.5576 - accuracy: 0.7220 - val_loss: 0.5405 - val_accuracy: 0.7468\n",
            "Epoch 58/100\n",
            "313/313 [==============================] - 0s 33us/step - loss: 0.5447 - accuracy: 0.7316 - val_loss: 0.5486 - val_accuracy: 0.7215\n",
            "Epoch 59/100\n",
            "313/313 [==============================] - 0s 28us/step - loss: 0.5568 - accuracy: 0.7157 - val_loss: 0.5370 - val_accuracy: 0.7468\n",
            "Epoch 60/100\n",
            "313/313 [==============================] - 0s 30us/step - loss: 0.5445 - accuracy: 0.7252 - val_loss: 0.5351 - val_accuracy: 0.7595\n",
            "Epoch 61/100\n",
            "313/313 [==============================] - 0s 29us/step - loss: 0.5476 - accuracy: 0.7348 - val_loss: 0.5311 - val_accuracy: 0.7215\n",
            "Epoch 62/100\n",
            "313/313 [==============================] - 0s 25us/step - loss: 0.5439 - accuracy: 0.7188 - val_loss: 0.5319 - val_accuracy: 0.7342\n",
            "Epoch 63/100\n",
            "313/313 [==============================] - 0s 28us/step - loss: 0.5463 - accuracy: 0.7157 - val_loss: 0.5428 - val_accuracy: 0.7468\n",
            "Epoch 64/100\n",
            "313/313 [==============================] - 0s 35us/step - loss: 0.5492 - accuracy: 0.7125 - val_loss: 0.5449 - val_accuracy: 0.7468\n",
            "Epoch 65/100\n",
            "313/313 [==============================] - 0s 34us/step - loss: 0.5533 - accuracy: 0.7220 - val_loss: 0.5282 - val_accuracy: 0.7342\n",
            "Epoch 66/100\n",
            "313/313 [==============================] - 0s 24us/step - loss: 0.5458 - accuracy: 0.7093 - val_loss: 0.5339 - val_accuracy: 0.7595\n",
            "Epoch 67/100\n",
            "313/313 [==============================] - 0s 30us/step - loss: 0.5415 - accuracy: 0.7284 - val_loss: 0.5283 - val_accuracy: 0.7468\n",
            "Epoch 68/100\n",
            "313/313 [==============================] - 0s 31us/step - loss: 0.5443 - accuracy: 0.7188 - val_loss: 0.5284 - val_accuracy: 0.7215\n",
            "Epoch 69/100\n",
            "313/313 [==============================] - 0s 29us/step - loss: 0.5400 - accuracy: 0.7188 - val_loss: 0.5391 - val_accuracy: 0.7468\n",
            "Epoch 70/100\n",
            "313/313 [==============================] - 0s 33us/step - loss: 0.5481 - accuracy: 0.7188 - val_loss: 0.5362 - val_accuracy: 0.7722\n",
            "Epoch 71/100\n",
            "313/313 [==============================] - 0s 28us/step - loss: 0.5392 - accuracy: 0.7348 - val_loss: 0.5275 - val_accuracy: 0.7468\n",
            "Epoch 72/100\n",
            "313/313 [==============================] - 0s 39us/step - loss: 0.5536 - accuracy: 0.7125 - val_loss: 0.5246 - val_accuracy: 0.7595\n",
            "Epoch 73/100\n",
            "313/313 [==============================] - 0s 29us/step - loss: 0.5409 - accuracy: 0.7316 - val_loss: 0.5280 - val_accuracy: 0.7468\n",
            "Epoch 74/100\n",
            "313/313 [==============================] - 0s 32us/step - loss: 0.5409 - accuracy: 0.7348 - val_loss: 0.5330 - val_accuracy: 0.7722\n",
            "Epoch 75/100\n",
            "313/313 [==============================] - 0s 28us/step - loss: 0.5371 - accuracy: 0.7316 - val_loss: 0.5296 - val_accuracy: 0.7595\n",
            "Epoch 76/100\n",
            "313/313 [==============================] - 0s 44us/step - loss: 0.5354 - accuracy: 0.7284 - val_loss: 0.5309 - val_accuracy: 0.7595\n",
            "Epoch 77/100\n",
            "313/313 [==============================] - 0s 30us/step - loss: 0.5408 - accuracy: 0.7316 - val_loss: 0.5249 - val_accuracy: 0.7595\n",
            "Epoch 78/100\n",
            "313/313 [==============================] - 0s 30us/step - loss: 0.5437 - accuracy: 0.7252 - val_loss: 0.5234 - val_accuracy: 0.7722\n",
            "Epoch 79/100\n",
            "313/313 [==============================] - 0s 28us/step - loss: 0.5445 - accuracy: 0.7252 - val_loss: 0.5409 - val_accuracy: 0.7595\n",
            "Epoch 80/100\n",
            "313/313 [==============================] - 0s 32us/step - loss: 0.5384 - accuracy: 0.7284 - val_loss: 0.5448 - val_accuracy: 0.7342\n",
            "Epoch 81/100\n",
            "313/313 [==============================] - 0s 29us/step - loss: 0.5576 - accuracy: 0.7412 - val_loss: 0.5306 - val_accuracy: 0.7595\n",
            "Epoch 82/100\n",
            "313/313 [==============================] - 0s 28us/step - loss: 0.5506 - accuracy: 0.7252 - val_loss: 0.5266 - val_accuracy: 0.7595\n",
            "Epoch 83/100\n",
            "313/313 [==============================] - 0s 31us/step - loss: 0.5381 - accuracy: 0.7061 - val_loss: 0.5279 - val_accuracy: 0.7468\n",
            "Epoch 84/100\n",
            "313/313 [==============================] - 0s 30us/step - loss: 0.5405 - accuracy: 0.7252 - val_loss: 0.5346 - val_accuracy: 0.7595\n",
            "Epoch 85/100\n",
            "313/313 [==============================] - 0s 34us/step - loss: 0.5427 - accuracy: 0.7188 - val_loss: 0.5385 - val_accuracy: 0.7595\n",
            "Epoch 86/100\n",
            "313/313 [==============================] - 0s 26us/step - loss: 0.5429 - accuracy: 0.7125 - val_loss: 0.5239 - val_accuracy: 0.7848\n",
            "Epoch 87/100\n",
            "313/313 [==============================] - 0s 26us/step - loss: 0.5316 - accuracy: 0.7380 - val_loss: 0.5243 - val_accuracy: 0.7722\n",
            "Epoch 88/100\n",
            "313/313 [==============================] - 0s 31us/step - loss: 0.5378 - accuracy: 0.7284 - val_loss: 0.5211 - val_accuracy: 0.7848\n",
            "Epoch 89/100\n",
            "313/313 [==============================] - 0s 31us/step - loss: 0.5298 - accuracy: 0.7380 - val_loss: 0.5190 - val_accuracy: 0.7722\n",
            "Epoch 90/100\n",
            "313/313 [==============================] - 0s 29us/step - loss: 0.5306 - accuracy: 0.7284 - val_loss: 0.5168 - val_accuracy: 0.7722\n",
            "Epoch 91/100\n",
            "313/313 [==============================] - 0s 32us/step - loss: 0.5279 - accuracy: 0.7412 - val_loss: 0.5255 - val_accuracy: 0.7595\n",
            "Epoch 92/100\n",
            "313/313 [==============================] - 0s 29us/step - loss: 0.5303 - accuracy: 0.7380 - val_loss: 0.5177 - val_accuracy: 0.7722\n",
            "Epoch 93/100\n",
            "313/313 [==============================] - 0s 21us/step - loss: 0.5319 - accuracy: 0.7284 - val_loss: 0.5172 - val_accuracy: 0.7595\n",
            "Epoch 94/100\n",
            "313/313 [==============================] - 0s 27us/step - loss: 0.5260 - accuracy: 0.7380 - val_loss: 0.5244 - val_accuracy: 0.7722\n",
            "Epoch 95/100\n",
            "313/313 [==============================] - 0s 37us/step - loss: 0.5343 - accuracy: 0.7252 - val_loss: 0.5160 - val_accuracy: 0.7722\n",
            "Epoch 96/100\n",
            "313/313 [==============================] - 0s 27us/step - loss: 0.5423 - accuracy: 0.7412 - val_loss: 0.5188 - val_accuracy: 0.7848\n",
            "Epoch 97/100\n",
            "313/313 [==============================] - 0s 35us/step - loss: 0.5496 - accuracy: 0.7220 - val_loss: 0.5347 - val_accuracy: 0.7342\n",
            "Epoch 98/100\n",
            "313/313 [==============================] - 0s 31us/step - loss: 0.5309 - accuracy: 0.7380 - val_loss: 0.5235 - val_accuracy: 0.7595\n",
            "Epoch 99/100\n",
            "313/313 [==============================] - 0s 26us/step - loss: 0.5467 - accuracy: 0.7061 - val_loss: 0.5187 - val_accuracy: 0.7595\n",
            "Epoch 100/100\n",
            "313/313 [==============================] - 0s 33us/step - loss: 0.5326 - accuracy: 0.7412 - val_loss: 0.5236 - val_accuracy: 0.7595\n"
          ],
          "name": "stdout"
        }
      ]
    },
    {
      "cell_type": "code",
      "metadata": {
        "id": "78_5BkT-Xipa",
        "colab_type": "code",
        "colab": {
          "base_uri": "https://localhost:8080/",
          "height": 34
        },
        "outputId": "f0735978-3d31-4afc-cc7e-31207a0f6b4c"
      },
      "source": [
        "scores = model.evaluate(X_test, y_test, verbose=0)\n",
        "print(\"%s: %.3f%%\" % (model.metrics_names[1], scores[1]*100))"
      ],
      "execution_count": 24,
      "outputs": [
        {
          "output_type": "stream",
          "text": [
            "accuracy: 75.949%\n"
          ],
          "name": "stdout"
        }
      ]
    },
    {
      "cell_type": "code",
      "metadata": {
        "id": "Iw5uqYYBXipc",
        "colab_type": "code",
        "colab": {
          "base_uri": "https://localhost:8080/",
          "height": 295
        },
        "outputId": "5f17e66a-1109-4243-928f-b4c28fb83ac1"
      },
      "source": [
        "\n",
        "import matplotlib.pyplot as plt\n",
        "%matplotlib inline\n",
        "# Model accuracy\n",
        "#plt.plot(history.history['acc'])\n",
        "#plt.plot(history.history['val_acc'])\n",
        "plt.title('Model Accuracy')\n",
        "plt.ylabel('accuracy')\n",
        "plt.xlabel('epoch')\n",
        "plt.legend(['train', 'test'])\n",
        "plt.show()\n"
      ],
      "execution_count": null,
      "outputs": [
        {
          "output_type": "display_data",
          "data": {
            "image/png": "[encoded data removed]",
            "text/plain": [
              "<Figure size 432x288 with 1 Axes>"
            ]
          },
          "metadata": {
            "tags": [],
            "needs_background": "light"
          }
        }
      ]
    },
    {
      "cell_type": "code",
      "metadata": {
        "id": "oksWmOe6Xipe",
        "colab_type": "code",
        "colab": {
          "base_uri": "https://localhost:8080/",
          "height": 295
        },
        "outputId": "5edad7b5-225e-4d3a-fb24-f9167af1f8d4"
      },
      "source": [
        "# Model Losss\n",
        "plt.plot(history.history['loss'])\n",
        "plt.plot(history.history['val_loss'])\n",
        "plt.title('Model Loss')\n",
        "plt.ylabel('loss')\n",
        "plt.xlabel('epoch')\n",
        "plt.legend(['train', 'test'])\n",
        "plt.show()"
      ],
      "execution_count": 29,
      "outputs": [
        {
          "output_type": "display_data",
          "data": {
            "image/png": "[encoded data removed]",
            "text/plain": [
              "<Figure size 432x288 with 1 Axes>"
            ]
          },
          "metadata": {
            "tags": [],
            "needs_background": "light"
          }
        }
      ]
    },
    {
      "cell_type": "code",
      "metadata": {
        "id": "jIcoVh0nXipg",
        "colab_type": "code",
        "colab": {
          "base_uri": "https://localhost:8080/",
          "height": 513
        },
        "outputId": "a6faae4a-c1a3-4e24-d536-1ed90128bec7"
      },
      "source": [
        "# confusion matrix\n",
        "import seaborn as sns\n",
        "from sklearn.metrics import confusion_matrix\n",
        "# Predict the values from the validation dataset\n",
        "y_pred = model.predict(X_test)\n",
        "y_final = (y_pred > 0.5).astype(int).reshape(X_test.shape[0])\n",
        "# compute the confusion matrix\n",
        "confusion_mtx = confusion_matrix(y_test, y_final) \n",
        "# plot the confusion matrix\n",
        "f,ax = plt.subplots(figsize=(8, 8))\n",
        "sns.heatmap(confusion_mtx, annot=True, linewidths=0.01,cmap=\"Greens\",linecolor=\"gray\", fmt= '.1f',ax=ax)\n",
        "plt.xlabel(\"Predicted Label\")\n",
        "plt.ylabel(\"True Label\")\n",
        "plt.title(\"Confusion Matrix\")\n",
        "plt.show()"
      ],
      "execution_count": 30,
      "outputs": [
        {
          "output_type": "display_data",
          "data": {
            "image/png": "[encoded data removed]",
            "text/plain": [
              "<Figure size 576x576 with 2 Axes>"
            ]
          },
          "metadata": {
            "tags": [],
            "needs_background": "light"
          }
        }
      ]
    },
    {
      "cell_type": "code",
      "metadata": {
        "id": "3xOuabtcXipj",
        "colab_type": "code",
        "colab": {
          "base_uri": "https://localhost:8080/",
          "height": 185
        },
        "outputId": "54e36a37-e6e4-4512-cb68-96f168b46e79"
      },
      "source": [
        "#from sklearn.metrics import classification_report\n",
        "from sklearn.metrics import classification_report, accuracy_score\n",
        "\n",
        "print(accuracy_score(y_test, y_final))\n",
        "# Generate a classification report\n",
        "report = classification_report(y_test, y_final, target_names=['0','1'])\n",
        "\n",
        "print(report)"
      ],
      "execution_count": 31,
      "outputs": [
        {
          "output_type": "stream",
          "text": [
            "0.759493670886076\n",
            "              precision    recall  f1-score   support\n",
            "\n",
            "           0       0.75      0.96      0.85        54\n",
            "           1       0.80      0.32      0.46        25\n",
            "\n",
            "    accuracy                           0.76        79\n",
            "   macro avg       0.78      0.64      0.65        79\n",
            "weighted avg       0.77      0.76      0.72        79\n",
            "\n"
          ],
          "name": "stdout"
        }
      ]
    }
  ]
}